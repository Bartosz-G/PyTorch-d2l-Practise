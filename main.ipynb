{
 "cells": [
  {
   "cell_type": "code",
   "execution_count": 2,
   "metadata": {
    "collapsed": true,
    "pycharm": {
     "name": "#%%\n"
    }
   },
   "outputs": [],
   "source": [
    "import torch\n",
    "import pandas as pd\n",
    "import torch.utils\n",
    "from torch import nn"
   ]
  },
  {
   "cell_type": "code",
   "execution_count": 3,
   "outputs": [],
   "source": [
    "#Loading house prices training and test dataset\n",
    "hptrain = pd.read_csv(\"/Users/bartoszgawin/Desktop/ML/Practise/PyTorch_Basic/Datasets/hptrain.csv\",index_col=0)\n",
    "hptest = pd.read_csv(\"Datasets/hptest.csv\",index_col=0)"
   ],
   "metadata": {
    "collapsed": false,
    "pycharm": {
     "name": "#%%\n"
    }
   }
  },
  {
   "cell_type": "code",
   "execution_count": 4,
   "outputs": [],
   "source": [
    "#Transforming data into tensor data format from pandas' dataframe\n",
    "X_ols_train = torch.tensor(hptrain[['LotArea', 'OverallQual', 'OverallCond', 'MasVnrArea', 'TotalBsmtSF']].values)\n",
    "Y_ols_train = torch.tensor(hptrain[['SalePrice']].values)\n",
    "\n",
    "#Splitting data into iterable batches\n",
    "olstensor = torch.utils.data.TensorDataset(X_ols_train,Y_ols_train)\n",
    "olsdataloader = torch.utils.data.DataLoader(olstensor, batch_size=20, shuffle=True)"
   ],
   "metadata": {
    "collapsed": false,
    "pycharm": {
     "name": "#%%\n"
    }
   }
  },
  {
   "cell_type": "code",
   "execution_count": 9,
   "outputs": [],
   "source": [
    "#Specifying the paramenters of our model\n",
    "olsnet = nn.Sequential(nn.Linear(X_ols_train.size()[1], Y_ols_train.size()[1]))\n",
    "olsnet[0].weight.data.normal_(0, 0.1)\n",
    "olsnet[0].bias.data.normal_(0, 0.1)\n",
    "olsloss = nn.MSELoss()\n",
    "olstrainer = torch.optim.SGD(olsnet.parameters(),lr=0.03)"
   ],
   "metadata": {
    "collapsed": false,
    "pycharm": {
     "name": "#%%\n"
    }
   }
  },
  {
   "cell_type": "code",
   "execution_count": null,
   "outputs": [],
   "source": [],
   "metadata": {
    "collapsed": false,
    "pycharm": {
     "name": "#%%\n"
    }
   }
  }
 ],
 "metadata": {
  "kernelspec": {
   "display_name": "Python 3",
   "language": "python",
   "name": "python3"
  },
  "language_info": {
   "codemirror_mode": {
    "name": "ipython",
    "version": 2
   },
   "file_extension": ".py",
   "mimetype": "text/x-python",
   "name": "python",
   "nbconvert_exporter": "python",
   "pygments_lexer": "ipython2",
   "version": "2.7.6"
  }
 },
 "nbformat": 4,
 "nbformat_minor": 0
}