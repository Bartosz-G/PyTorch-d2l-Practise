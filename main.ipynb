{
 "cells": [
  {
   "cell_type": "code",
   "execution_count": 187,
   "metadata": {
    "collapsed": true,
    "pycharm": {
     "name": "#%%\n"
    }
   },
   "outputs": [],
   "source": [
    "import torch\n",
    "import pandas as pd\n",
    "import numpy as np\n",
    "import torch.utils\n",
    "import torchvision.transforms\n",
    "from torch import nn\n",
    "import matplotlib.pyplot as plt\n",
    "%matplotlib inline"
   ]
  },
  {
   "cell_type": "code",
   "execution_count": 188,
   "outputs": [],
   "source": [
    "#Loading house prices training and test dataset\n",
    "hptrain = pd.read_csv(\"Datasets/hptrain.csv\",index_col=0)\n",
    "hptest = pd.read_csv(\"Datasets/hptest.csv\",index_col=0)"
   ],
   "metadata": {
    "collapsed": false,
    "pycharm": {
     "name": "#%%\n"
    }
   }
  },
  {
   "cell_type": "code",
   "execution_count": 189,
   "outputs": [],
   "source": [
    "#Transforming data into tensor data format from pandas' dataframe\n",
    "X_ols_train = torch.tensor(hptrain[['LotArea', 'OverallQual', 'OverallCond', 'MasVnrArea', 'TotalBsmtSF']].values,requires_grad=True,dtype=torch.float32)\n",
    "X_ols_train = nn.functional.normalize(X_ols_train)\n",
    "Y_ols_train = torch.tensor(hptrain[['SalePrice']].values,requires_grad=True,dtype=torch.float32)\n",
    "\n",
    "\n",
    "#Splitting data into iterable batches\n",
    "olstensor = torch.utils.data.TensorDataset(X_ols_train,Y_ols_train)\n",
    "olsdataloader = torch.utils.data.DataLoader(olstensor, batch_size=20,shuffle=True)"
   ],
   "metadata": {
    "collapsed": false,
    "pycharm": {
     "name": "#%%\n"
    }
   }
  },
  {
   "cell_type": "code",
   "execution_count": 190,
   "outputs": [],
   "source": [
    "#Specifying the paramenters of our model\n",
    "olsnet = nn.Sequential(nn.Linear(X_ols_train.size()[1],Y_ols_train.size()[1]))\n",
    "olsnet[0].weight.data.normal_(0, 0.1)\n",
    "olsnet[0].bias.data.normal_(0, 0.1)\n",
    "olsloss = nn.MSELoss()\n",
    "olstrainer = torch.optim.SGD(olsnet.parameters(),lr=0.0001)"
   ],
   "metadata": {
    "collapsed": false,
    "pycharm": {
     "name": "#%%\n"
    }
   }
  },
  {
   "cell_type": "code",
   "execution_count": 191,
   "outputs": [
    {
     "name": "stdout",
     "output_type": "stream",
     "text": [
      "-------------------\n",
      "1th epoch\n",
      "===================\n",
      "Loss ols:nan\n",
      "Coefficients:  tensor([[nan, nan, nan, nan, nan]])\n",
      "-------------------\n",
      "2th epoch\n",
      "===================\n",
      "Loss ols:nan\n",
      "Coefficients:  tensor([[nan, nan, nan, nan, nan]])\n",
      "-------------------\n",
      "3th epoch\n",
      "===================\n",
      "Loss ols:nan\n",
      "Coefficients:  tensor([[nan, nan, nan, nan, nan]])\n",
      "-------------------\n",
      "4th epoch\n",
      "===================\n",
      "Loss ols:nan\n",
      "Coefficients:  tensor([[nan, nan, nan, nan, nan]])\n",
      "-------------------\n",
      "5th epoch\n",
      "===================\n",
      "Loss ols:nan\n",
      "Coefficients:  tensor([[nan, nan, nan, nan, nan]])\n"
     ]
    }
   ],
   "source": [
    "num_epochs = 5\n",
    "olsnet.train()\n",
    "for epoch in range(num_epochs):\n",
    "    print('-------------------')\n",
    "    print(f'{epoch+1}th epoch')\n",
    "    print('===================')\n",
    "    olstrainer.zero_grad()\n",
    "    X, Y = next(iter(olsdataloader))\n",
    "    output = olsnet(X)\n",
    "\n",
    "    l = olsloss(output,Y)\n",
    "    print(f'Loss ols:{l}')\n",
    "\n",
    "\n",
    "    l.backward(retain_graph=True)\n",
    "\n",
    "    olstrainer.step()\n",
    "    print('Coefficients: ',olsnet[0].weight.data)\n"
   ],
   "metadata": {
    "collapsed": false,
    "pycharm": {
     "name": "#%%\n"
    }
   }
  },
  {
   "cell_type": "code",
   "execution_count": 192,
   "outputs": [
    {
     "data": {
      "text/plain": "'--------------------------------------------------------'"
     },
     "execution_count": 192,
     "metadata": {},
     "output_type": "execute_result"
    }
   ],
   "source": [
    "'''--------------------------------------------------------'''\n",
    "'''--------------------------------------------------------'''\n",
    "'''--------------------------------------------------------'''"
   ],
   "metadata": {
    "collapsed": false,
    "pycharm": {
     "name": "#%%\n"
    }
   }
  },
  {
   "cell_type": "code",
   "execution_count": 193,
   "outputs": [],
   "source": [
    "#Loading in complex MNIST train and test datasets while transforming them to 64\n",
    "trans = [torchvision.transforms.ToTensor()]\n",
    "trans.insert(0, torchvision.transforms.Resize(28))\n",
    "trans = torchvision.transforms.Compose(trans)\n",
    "\n",
    "\n",
    "mnist_train = torchvision.datasets.FashionMNIST(\n",
    "    root=\"../PyTorch_Basic/Datasets\",train = True, transform=trans, download= True)\n",
    "mnist_test = torchvision.datasets.FashionMNIST(\n",
    "    root=\"../PyTorch_Basic/Datasets\",train = False, transform=trans, download= True)"
   ],
   "metadata": {
    "collapsed": false,
    "pycharm": {
     "name": "#%%\n"
    }
   }
  },
  {
   "cell_type": "code",
   "execution_count": 194,
   "outputs": [
    {
     "data": {
      "text/plain": "<Figure size 800x800 with 9 Axes>",
      "image/png": "[encoded data removed]"
     },
     "metadata": {},
     "output_type": "display_data"
    }
   ],
   "source": [
    "#Visualizing 9 random examples\n",
    "\n",
    "labels_map = {\n",
    "    0: \"T-Shirt\",\n",
    "    1: \"Trouser\",\n",
    "    2: \"Pullover\",\n",
    "    3: \"Dress\",\n",
    "    4: \"Coat\",\n",
    "    5: \"Sandal\",\n",
    "    6: \"Shirt\",\n",
    "    7: \"Sneaker\",\n",
    "    8: \"Bag\",\n",
    "    9: \"Ankle Boot\",\n",
    "}\n",
    "\n",
    "figure = plt.figure(figsize=(8, 8))\n",
    "cols, rows = 3, 3\n",
    "\n",
    "for i in range(1, cols * rows + 1):\n",
    "    sample_idx = torch.randint(len(mnist_train), size=(1,)).item()\n",
    "    img, label = mnist_train[sample_idx]\n",
    "    figure.add_subplot(rows, cols, i)\n",
    "    plt.title(labels_map[label])\n",
    "    plt.axis(\"off\")\n",
    "    plt.imshow(img.squeeze())\n",
    "plt.show()\n",
    "\n"
   ],
   "metadata": {
    "collapsed": false,
    "pycharm": {
     "name": "#%%\n"
    }
   }
  },
  {
   "cell_type": "code",
   "execution_count": 242,
   "outputs": [],
   "source": [
    "#Splitting our data into batch sizes\n",
    "mnist_batch_size = 9\n",
    "\n",
    "mnist_train_iter = torch.utils.data.DataLoader(mnist_train,mnist_batch_size,shuffle=True,num_workers=4)\n",
    "mnist_test_iter = torch.utils.data.DataLoader(mnist_test,mnist_test.__len__(),shuffle=False,num_workers=4)"
   ],
   "metadata": {
    "collapsed": false,
    "pycharm": {
     "name": "#%%\n"
    }
   }
  },
  {
   "cell_type": "code",
   "execution_count": 196,
   "outputs": [],
   "source": [
    "#Creating the model and initializing the weights\n",
    "logit_net = nn.Sequential(nn.Flatten(),nn.Linear(784,10))\n",
    "\n",
    "#Initializing weights\n",
    "def init_weights(m):\n",
    "    if type(m) == nn.Linear:\n",
    "        nn.init.normal_(m.weight, std=0.01)\n",
    "\n",
    "logit_net.apply(init_weights)\n",
    "\n",
    "#Specifying cross entropy loss\n",
    "logit_loss = nn.CrossEntropyLoss(reduction='none')\n",
    "\n",
    "#Specifying Stochastic Gradient Descent trainer\n",
    "logit_trainer = torch.optim.SGD(logit_net.parameters(), lr=0.1)"
   ],
   "metadata": {
    "collapsed": false,
    "pycharm": {
     "name": "#%%\n"
    }
   }
  },
  {
   "cell_type": "code",
   "execution_count": null,
   "outputs": [],
   "source": [
    "#Creating a class for displaying the results\n",
    "class evaluation:\n",
    "    \"\"\"For evaluating the accuracy of image recognition neural networks which use Cross-Entropy Loss\"\"\"\n",
    "    def __init__(self,net,img,label):\n",
    "        #History of saved error rates, used for in-sample error evaluation during neural network training\n",
    "        self.hist = []\n",
    "        self.net = net\n",
    "        self.img = img\n",
    "        self.label = label\n",
    "    def prob(self):\n",
    "        \"\"\"Returns probabilities for each label\"\"\"\n",
    "        output = self.net(img)\n",
    "        exp = torch.exp(output)\n",
    "        probabilities = exp / sum(exp)\n",
    "        return probabilities\n",
    "    def pred(self):\n",
    "        \"\"\"Returns the labels our model predicted for each image\"\"\"\n",
    "        return torch.argmax(self.prob(),dim=1)\n",
    "    def cert(self):\n",
    "        \"\"\"(certainty) Returns the probabilities of the chosen label for each image\"\"\"\n",
    "        return torch.amax(self.prob(),dim=1)\n",
    "    def error(self):\n",
    "        \"\"\"Returns missclassificaiton eror rate\"\"\"\n",
    "        return torch.sum(self.pred() != label)/len(self.label)\n",
    "    def append(self):\n",
    "        \"\"\"Appends an error rate to the history of error rates (used for in-sample error rate during training)\"\"\"\n",
    "\n",
    "\n"
   ],
   "metadata": {
    "collapsed": false,
    "pycharm": {
     "name": "#%%\n"
    }
   }
  },
  {
   "cell_type": "code",
   "execution_count": 197,
   "outputs": [
    {
     "name": "stdout",
     "output_type": "stream",
     "text": [
      "-------------------\n",
      "1th epoch\n",
      "===================\n",
      "-------------------\n",
      "2th epoch\n",
      "===================\n",
      "-------------------\n",
      "3th epoch\n",
      "===================\n",
      "-------------------\n",
      "4th epoch\n",
      "===================\n",
      "-------------------\n",
      "5th epoch\n",
      "===================\n"
     ]
    }
   ],
   "source": [
    "num_epochs = 5\n",
    "for epoch in range(num_epochs):\n",
    "    print('-------------------')\n",
    "    print(f'{epoch+1}th epoch')\n",
    "    print('===================')\n",
    "    logit_net.train()\n",
    "    logit_net.zero_grad()\n",
    "    img, label = next(iter(mnist_train_iter))\n",
    "    output = logit_net(img)\n",
    "\n",
    "    l = logit_loss(output,label)\n",
    "\n",
    "\n",
    "    l.mean().backward(retain_graph=True)\n",
    "\n",
    "    logit_trainer.step()"
   ],
   "metadata": {
    "collapsed": false,
    "pycharm": {
     "name": "#%%\n"
    }
   }
  },
  {
   "cell_type": "code",
   "execution_count": 233,
   "outputs": [],
   "source": [
    "def evaluate_accuracy(net,img,label):\n",
    "    output = net(img)\n",
    "    exp = torch.exp(output)\n",
    "    probabilities = exp / sum(exp)\n",
    "    prediction = torch.argmax(probabilities,dim=1)\n",
    "    certainty = torch.amax(probabilities,dim=1)\n",
    "    return torch.sum(prediction == label)/len(label)\n",
    "\n"
   ],
   "metadata": {
    "collapsed": false,
    "pycharm": {
     "name": "#%%\n"
    }
   }
  },
  {
   "cell_type": "code",
   "execution_count": 203,
   "outputs": [
    {
     "data": {
      "text/plain": "tensor([5, 4, 8, 0, 3, 1, 8, 4, 7])"
     },
     "execution_count": 203,
     "metadata": {},
     "output_type": "execute_result"
    }
   ],
   "source": [
    "img, label = next(iter(mnist_train_iter))\n",
    "label"
   ],
   "metadata": {
    "collapsed": false,
    "pycharm": {
     "name": "#%%\n"
    }
   }
  },
  {
   "cell_type": "code",
   "execution_count": 204,
   "outputs": [
    {
     "name": "stdout",
     "output_type": "stream",
     "text": [
      "P: tensor([8, 4, 5, 0, 3, 1, 9, 1, 7])\n",
      "L: tensor([5, 4, 8, 0, 3, 1, 8, 4, 7])\n",
      "tensor(0.5556)\n"
     ]
    }
   ],
   "source": [
    "print(evaluate_accuracy(logit_net,img,label))"
   ],
   "metadata": {
    "collapsed": false,
    "pycharm": {
     "name": "#%%\n"
    }
   }
  },
  {
   "cell_type": "code",
   "execution_count": 205,
   "outputs": [
    {
     "name": "stdout",
     "output_type": "stream",
     "text": [
      "tensor([8, 4, 5, 0, 3, 1, 9, 1, 7])\n",
      "tensor([5, 4, 8, 0, 3, 1, 8, 4, 7])\n",
      "tensor([0.4294, 0.6436, 0.1668, 0.1567, 0.2432, 0.3591, 0.2938, 0.1676, 0.3402],\n",
      "       grad_fn=<AmaxBackward0>)\n",
      "tensor(5)\n",
      "tensor(0.5556)\n"
     ]
    }
   ],
   "source": [
    "X = logit_net(img)\n",
    "temp = torch.argmax(torch.exp(X)/sum(torch.exp(X)),dim=1)\n",
    "print(temp)\n",
    "print(label)\n",
    "print(torch.amax(torch.exp(X)/sum(torch.exp(X)),dim=1))\n",
    "print(torch.sum(temp == label))\n",
    "print(torch.sum(temp == label)/len(label))"
   ],
   "metadata": {
    "collapsed": false,
    "pycharm": {
     "name": "#%%\n"
    }
   }
  },
  {
   "cell_type": "code",
   "execution_count": 243,
   "outputs": [],
   "source": [
    "X,y = next(iter(mnist_test_iter))"
   ],
   "metadata": {
    "collapsed": false,
    "pycharm": {
     "name": "#%%\n"
    }
   }
  },
  {
   "cell_type": "code",
   "execution_count": 246,
   "outputs": [
    {
     "ename": "TypeError",
     "evalue": "object of type 'int' has no len()",
     "output_type": "error",
     "traceback": [
      "\u001B[0;31m---------------------------------------------------------------------------\u001B[0m",
      "\u001B[0;31mTypeError\u001B[0m                                 Traceback (most recent call last)",
      "Cell \u001B[0;32mIn [246], line 1\u001B[0m\n\u001B[0;32m----> 1\u001B[0m \u001B[38;5;28;43mlen\u001B[39;49m\u001B[43m(\u001B[49m\u001B[43my\u001B[49m\u001B[43m)\u001B[49m\n",
      "\u001B[0;31mTypeError\u001B[0m: object of type 'int' has no len()"
     ]
    }
   ],
   "source": [],
   "metadata": {
    "collapsed": false,
    "pycharm": {
     "name": "#%%\n"
    }
   }
  },
  {
   "cell_type": "code",
   "execution_count": null,
   "outputs": [],
   "source": [],
   "metadata": {
    "collapsed": false,
    "pycharm": {
     "name": "#%%\n"
    }
   }
  }
 ],
 "metadata": {
  "kernelspec": {
   "display_name": "Python 3",
   "language": "python",
   "name": "python3"
  },
  "language_info": {
   "codemirror_mode": {
    "name": "ipython",
    "version": 2
   },
   "file_extension": ".py",
   "mimetype": "text/x-python",
   "name": "python",
   "nbconvert_exporter": "python",
   "pygments_lexer": "ipython2",
   "version": "2.7.6"
  }
 },
 "nbformat": 4,
 "nbformat_minor": 0
}