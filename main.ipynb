{
 "cells": [
  {
   "cell_type": "code",
   "execution_count": 101,
   "metadata": {
    "collapsed": true,
    "pycharm": {
     "name": "#%%\n"
    }
   },
   "outputs": [],
   "source": [
    "import torch\n",
    "import pandas as pd\n",
    "import torch.utils\n",
    "from torch import nn"
   ]
  },
  {
   "cell_type": "code",
   "execution_count": 102,
   "outputs": [],
   "source": [
    "#Loading house prices training and test dataset\n",
    "hptrain = pd.read_csv(\"/Users/bartoszgawin/Desktop/ML/Practise/PyTorch_Basic/Datasets/hptrain.csv\",index_col=0)\n",
    "hptest = pd.read_csv(\"Datasets/hptest.csv\",index_col=0)"
   ],
   "metadata": {
    "collapsed": false,
    "pycharm": {
     "name": "#%%\n"
    }
   }
  },
  {
   "cell_type": "code",
   "execution_count": 103,
   "outputs": [
    {
     "name": "stdout",
     "output_type": "stream",
     "text": [
      "True\n",
      "True\n"
     ]
    }
   ],
   "source": [
    "#Transforming data into tensor data format from pandas' dataframe\n",
    "X_ols_train = torch.tensor(hptrain[['LotArea', 'OverallQual', 'OverallCond', 'MasVnrArea', 'TotalBsmtSF']].values,requires_grad=True).detach()\n",
    "print(X_ols_train.is_leaf)\n",
    "Y_ols_train = torch.tensor(hptrain[['SalePrice']].values).detach()\n",
    "\n",
    "\n",
    "X_ols_train = X_ols_train.float().detach()\n",
    "Y_ols_train = Y_ols_train.float().detach()\n",
    "\n",
    "\n",
    "\n",
    "print(X_ols_train.is_leaf)\n",
    "\n",
    "\n",
    "#Splitting data into iterable batches\n",
    "olstensor = torch.utils.data.TensorDataset(X_ols_train,Y_ols_train)\n",
    "olsdataloader = torch.utils.data.DataLoader(olstensor, batch_size=20)"
   ],
   "metadata": {
    "collapsed": false,
    "pycharm": {
     "name": "#%%\n"
    }
   }
  },
  {
   "cell_type": "code",
   "execution_count": 104,
   "outputs": [],
   "source": [
    "#Specifying the paramenters of our model\n",
    "olsnet = nn.Sequential(nn.Linear(X_ols_train.size()[1], Y_ols_train.size()[1]))\n",
    "olsnet[0].weight.data.normal_(0, 10)\n",
    "olsnet[0].bias.data.normal_(0, 10)\n",
    "olsloss = nn.MSELoss()\n",
    "olstrainer = torch.optim.SGD(olsnet.parameters(),lr=0.03)"
   ],
   "metadata": {
    "collapsed": false,
    "pycharm": {
     "name": "#%%\n"
    }
   }
  },
  {
   "cell_type": "code",
   "execution_count": 104,
   "outputs": [],
   "source": [],
   "metadata": {
    "collapsed": false,
    "pycharm": {
     "name": "#%%\n"
    }
   }
  },
  {
   "cell_type": "code",
   "execution_count": 114,
   "outputs": [
    {
     "name": "stdout",
     "output_type": "stream",
     "text": [
      "-------------------\n",
      "1th epoch\n",
      "===================\n",
      "It is a leaf:  True\n",
      "Loss:37426749440.0\n",
      "Gradient:1.0\n",
      "Coefficients:  tensor([[-0.0437, -0.0248,  0.0174,  0.0571,  0.0472]])\n",
      "-------------------\n",
      "2th epoch\n",
      "===================\n",
      "It is a leaf:  True\n",
      "Loss:37426749440.0\n",
      "Gradient:1.0\n",
      "Coefficients:  tensor([[-0.0437, -0.0248,  0.0174,  0.0571,  0.0472]])\n",
      "-------------------\n",
      "3th epoch\n",
      "===================\n",
      "It is a leaf:  True\n",
      "Loss:37426749440.0\n",
      "Gradient:1.0\n",
      "Coefficients:  tensor([[-0.0437, -0.0248,  0.0174,  0.0571,  0.0472]])\n",
      "-------------------\n",
      "4th epoch\n",
      "===================\n",
      "It is a leaf:  True\n",
      "Loss:37426749440.0\n",
      "Gradient:1.0\n",
      "Coefficients:  tensor([[-0.0437, -0.0248,  0.0174,  0.0571,  0.0472]])\n",
      "-------------------\n",
      "5th epoch\n",
      "===================\n",
      "It is a leaf:  True\n",
      "Loss:37426749440.0\n",
      "Gradient:1.0\n",
      "Coefficients:  tensor([[-0.0437, -0.0248,  0.0174,  0.0571,  0.0472]])\n"
     ]
    }
   ],
   "source": [
    "olsnet[0].weight.data.normal_(0, 0.1)\n",
    "olsnet[0].bias.data.normal_(0, 0.1)\n",
    "\n",
    "num_epochs = 5\n",
    "for epoch in range(num_epochs):\n",
    "    print('-------------------')\n",
    "    print(f'{epoch+1}th epoch')\n",
    "    print('===================')\n",
    "    olstrainer.zero_grad()\n",
    "    X, Y = next(iter(olsdataloader))\n",
    "    X.requires_grad = True\n",
    "    X.retain_grad()\n",
    "    Y.requires_grad = True\n",
    "    Y.retain_grad()\n",
    "    print('It is a leaf: ',X.is_leaf)\n",
    "    l = olsloss(olsnet(X),Y).detach()\n",
    "    l.requires_grad = True\n",
    "    l.retain_grad()\n",
    "    print(f'Loss:{l}')\n",
    "    l.backward()\n",
    "    olstrainer.step()\n",
    "    print(f'Gradient:{l.grad}')\n",
    "    print('Coefficients: ',olsnet[0].weight.data)\n",
    "\n",
    "\n",
    "\n"
   ],
   "metadata": {
    "collapsed": false,
    "pycharm": {
     "name": "#%%\n"
    }
   }
  },
  {
   "cell_type": "code",
   "execution_count": 105,
   "outputs": [],
   "source": [],
   "metadata": {
    "collapsed": false,
    "pycharm": {
     "name": "#%%\n"
    }
   }
  },
  {
   "cell_type": "code",
   "execution_count": 105,
   "outputs": [],
   "source": [],
   "metadata": {
    "collapsed": false,
    "pycharm": {
     "name": "#%%\n"
    }
   }
  },
  {
   "cell_type": "code",
   "execution_count": null,
   "outputs": [],
   "source": [],
   "metadata": {
    "collapsed": false,
    "pycharm": {
     "name": "#%%\n"
    }
   }
  },
  {
   "cell_type": "code",
   "execution_count": 124,
   "outputs": [],
   "source": [],
   "metadata": {
    "collapsed": false,
    "pycharm": {
     "name": "#%%\n"
    }
   }
  }
 ],
 "metadata": {
  "kernelspec": {
   "display_name": "Python 3",
   "language": "python",
   "name": "python3"
  },
  "language_info": {
   "codemirror_mode": {
    "name": "ipython",
    "version": 2
   },
   "file_extension": ".py",
   "mimetype": "text/x-python",
   "name": "python",
   "nbconvert_exporter": "python",
   "pygments_lexer": "ipython2",
   "version": "2.7.6"
  }
 },
 "nbformat": 4,
 "nbformat_minor": 0
}