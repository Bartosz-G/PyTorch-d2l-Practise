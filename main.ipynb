{
 "cells": [
  {
   "cell_type": "code",
   "execution_count": 23,
   "metadata": {
    "collapsed": true,
    "pycharm": {
     "name": "#%%\n"
    }
   },
   "outputs": [],
   "source": [
    "import torch\n",
    "import pandas as pd\n",
    "import numpy as np\n",
    "import torch.utils\n",
    "import torchvision.transforms\n",
    "from torch import nn\n",
    "import matplotlib.pyplot as plt\n",
    "%matplotlib inline"
   ]
  },
  {
   "cell_type": "code",
   "execution_count": 24,
   "outputs": [],
   "source": [
    "#Loading house prices training and test dataset\n",
    "hptrain = pd.read_csv(\"Datasets/hptrain.csv\",index_col=0)\n",
    "hptest = pd.read_csv(\"Datasets/hptest.csv\",index_col=0)"
   ],
   "metadata": {
    "collapsed": false,
    "pycharm": {
     "name": "#%%\n"
    }
   }
  },
  {
   "cell_type": "code",
   "execution_count": 25,
   "outputs": [],
   "source": [
    "#Transforming data into tensor data format from pandas' dataframe\n",
    "X_ols_train = torch.tensor(hptrain[['LotArea', 'OverallQual', 'OverallCond', 'MasVnrArea', 'TotalBsmtSF']].values,requires_grad=True,dtype=torch.float32)\n",
    "X_ols_train = nn.functional.normalize(X_ols_train)\n",
    "Y_ols_train = torch.tensor(hptrain[['SalePrice']].values,requires_grad=True,dtype=torch.float32)\n",
    "\n",
    "\n",
    "#Splitting data into iterable batches\n",
    "olstensor = torch.utils.data.TensorDataset(X_ols_train,Y_ols_train)\n",
    "olsdataloader = torch.utils.data.DataLoader(olstensor, batch_size=20,shuffle=True)"
   ],
   "metadata": {
    "collapsed": false,
    "pycharm": {
     "name": "#%%\n"
    }
   }
  },
  {
   "cell_type": "code",
   "execution_count": 26,
   "outputs": [],
   "source": [
    "#Specifying the paramenters of our model\n",
    "olsnet = nn.Sequential(nn.Linear(X_ols_train.size()[1],Y_ols_train.size()[1]))\n",
    "olsnet[0].weight.data.normal_(0, 0.1)\n",
    "olsnet[0].bias.data.normal_(0, 0.1)\n",
    "olsloss = nn.MSELoss()\n",
    "olstrainer = torch.optim.SGD(olsnet.parameters(),lr=0.0001)"
   ],
   "metadata": {
    "collapsed": false,
    "pycharm": {
     "name": "#%%\n"
    }
   }
  },
  {
   "cell_type": "code",
   "execution_count": 27,
   "outputs": [
    {
     "name": "stdout",
     "output_type": "stream",
     "text": [
      "-------------------\n",
      "1th epoch\n",
      "===================\n",
      "Loss ols:42244481024.0\n",
      "Coefficients:  tensor([[3.6742e+01, 1.2323e-01, 9.0972e-03, 1.3905e+00, 4.9366e+00]])\n",
      "-------------------\n",
      "2th epoch\n",
      "===================\n",
      "Loss ols:28532527104.0\n",
      "Coefficients:  tensor([[6.9075e+01, 1.4968e-01, 3.4395e-02, 1.6113e+00, 9.3750e+00]])\n",
      "-------------------\n",
      "3th epoch\n",
      "===================\n",
      "Loss ols:32988010496.0\n",
      "Coefficients:  tensor([[1.0272e+02, 1.7686e-01, 5.7192e-02, 2.5809e+00, 1.3698e+01]])\n",
      "-------------------\n",
      "4th epoch\n",
      "===================\n",
      "Loss ols:51295137792.0\n",
      "Coefficients:  tensor([[1.4358e+02, 2.0305e-01, 7.7157e-02, 3.4718e+00, 1.8196e+01]])\n",
      "-------------------\n",
      "5th epoch\n",
      "===================\n",
      "Loss ols:32556380160.0\n",
      "Coefficients:  tensor([[1.7647e+02, 2.3041e-01, 1.0150e-01, 4.1886e+00, 2.2460e+01]])\n"
     ]
    }
   ],
   "source": [
    "num_epochs = 5\n",
    "olsnet.train()\n",
    "for epoch in range(num_epochs):\n",
    "    print('-------------------')\n",
    "    print(f'{epoch+1}th epoch')\n",
    "    print('===================')\n",
    "    olstrainer.zero_grad()\n",
    "    X, Y = next(iter(olsdataloader))\n",
    "    output = olsnet(X)\n",
    "\n",
    "    l = olsloss(output,Y)\n",
    "    print(f'Loss ols:{l}')\n",
    "\n",
    "\n",
    "    l.backward(retain_graph=True)\n",
    "\n",
    "    olstrainer.step()\n",
    "    print('Coefficients: ',olsnet[0].weight.data)\n"
   ],
   "metadata": {
    "collapsed": false,
    "pycharm": {
     "name": "#%%\n"
    }
   }
  },
  {
   "cell_type": "code",
   "execution_count": 28,
   "outputs": [
    {
     "data": {
      "text/plain": "'--------------------------------------------------------'"
     },
     "execution_count": 28,
     "metadata": {},
     "output_type": "execute_result"
    }
   ],
   "source": [
    "'''--------------------------------------------------------'''\n",
    "'''--------------------------------------------------------'''\n",
    "'''--------------------------------------------------------'''"
   ],
   "metadata": {
    "collapsed": false,
    "pycharm": {
     "name": "#%%\n"
    }
   }
  },
  {
   "cell_type": "code",
   "execution_count": 29,
   "outputs": [],
   "source": [
    "#Loading in complex MNIST train and test datasets while transforming them to 64\n",
    "trans = [torchvision.transforms.ToTensor()]\n",
    "trans.insert(0, torchvision.transforms.Resize(28))\n",
    "trans = torchvision.transforms.Compose(trans)\n",
    "\n",
    "\n",
    "mnist_train = torchvision.datasets.FashionMNIST(\n",
    "    root=\"../PyTorch_Basic/Datasets\",train = True, transform=trans, download= True)\n",
    "mnist_test = torchvision.datasets.FashionMNIST(\n",
    "    root=\"../PyTorch_Basic/Datasets\",train = False, transform=trans, download= True)"
   ],
   "metadata": {
    "collapsed": false,
    "pycharm": {
     "name": "#%%\n"
    }
   }
  },
  {
   "cell_type": "code",
   "execution_count": 30,
   "outputs": [
    {
     "data": {
      "text/plain": "<Figure size 800x800 with 9 Axes>",
      "image/png": "[encoded data removed]"
     },
     "metadata": {},
     "output_type": "display_data"
    }
   ],
   "source": [
    "#Visualizing 9 random examples\n",
    "\n",
    "labels_map = {\n",
    "    0: \"T-Shirt\",\n",
    "    1: \"Trouser\",\n",
    "    2: \"Pullover\",\n",
    "    3: \"Dress\",\n",
    "    4: \"Coat\",\n",
    "    5: \"Sandal\",\n",
    "    6: \"Shirt\",\n",
    "    7: \"Sneaker\",\n",
    "    8: \"Bag\",\n",
    "    9: \"Ankle Boot\",\n",
    "}\n",
    "\n",
    "figure = plt.figure(figsize=(8, 8))\n",
    "cols, rows = 3, 3\n",
    "\n",
    "for i in range(1, cols * rows + 1):\n",
    "    sample_idx = torch.randint(len(mnist_train), size=(1,)).item()\n",
    "    img, label = mnist_train[sample_idx]\n",
    "    figure.add_subplot(rows, cols, i)\n",
    "    plt.title(labels_map[label])\n",
    "    plt.axis(\"off\")\n",
    "    plt.imshow(img.squeeze())\n",
    "plt.show()\n",
    "\n"
   ],
   "metadata": {
    "collapsed": false,
    "pycharm": {
     "name": "#%%\n"
    }
   }
  },
  {
   "cell_type": "code",
   "execution_count": 31,
   "outputs": [],
   "source": [
    "#Splitting our data into batch sizes\n",
    "mnist_batch_size = 9\n",
    "\n",
    "mnist_train_iter = torch.utils.data.DataLoader(mnist_train,mnist_batch_size,shuffle=True,num_workers=4)\n",
    "mnist_test_iter = torch.utils.data.DataLoader(mnist_test,mnist_batch_size,shuffle=True,num_workers=4)"
   ],
   "metadata": {
    "collapsed": false,
    "pycharm": {
     "name": "#%%\n"
    }
   }
  },
  {
   "cell_type": "code",
   "execution_count": 32,
   "outputs": [],
   "source": [
    "#Creating the model and initializing the weights\n",
    "logit_net = nn.Sequential(nn.Flatten(),nn.Linear(784,10))\n",
    "\n",
    "#Initializing weights\n",
    "def init_weights(m):\n",
    "    if type(m) == nn.Linear:\n",
    "        nn.init.normal_(m.weight, std=0.01)\n",
    "\n",
    "logit_net.apply(init_weights)\n",
    "\n",
    "#Specifying cross entropy loss\n",
    "logit_loss = nn.CrossEntropyLoss(reduction='none')\n",
    "\n",
    "#Specifying Stochastic Gradient Descent trainer\n",
    "logit_trainer = torch.optim.SGD(logit_net.parameters(), lr=0.1)"
   ],
   "metadata": {
    "collapsed": false,
    "pycharm": {
     "name": "#%%\n"
    }
   }
  },
  {
   "cell_type": "code",
   "execution_count": 63,
   "outputs": [
    {
     "name": "stdout",
     "output_type": "stream",
     "text": [
      "-------------------\n",
      "1th epoch\n",
      "===================\n",
      "Cross entropy:tensor([2.6140, 2.4999, 1.6841, 5.2464, 5.9849, 3.2052, 2.5439, 2.8832, 2.3724],\n",
      "       grad_fn=<NllLossBackward0>)\n",
      "Coefficients:  tensor([[-0.0129,  0.0146, -0.0095,  ..., -0.0069,  0.0108,  0.0130],\n",
      "        [-0.0019,  0.0078,  0.0101,  ...,  0.0105,  0.0115, -0.0086],\n",
      "        [-0.0018, -0.0013,  0.0026,  ..., -0.0042,  0.0268, -0.0020],\n",
      "        ...,\n",
      "        [-0.0016, -0.0189, -0.0003,  ...,  0.0085,  0.0243, -0.0074],\n",
      "        [ 0.0162, -0.0179,  0.0144,  ...,  0.0122, -0.0194, -0.0015],\n",
      "        [ 0.0003, -0.0040, -0.0039,  ...,  0.0020, -0.0022,  0.0067]])\n",
      "-------------------\n",
      "2th epoch\n",
      "===================\n",
      "Cross entropy:tensor([0.3688, 1.4685, 4.8250, 0.5763, 2.1561, 2.3769, 5.3821, 5.4051, 2.0318],\n",
      "       grad_fn=<NllLossBackward0>)\n",
      "Coefficients:  tensor([[-0.0129,  0.0146, -0.0095,  ..., -0.0069,  0.0108,  0.0130],\n",
      "        [-0.0019,  0.0078,  0.0101,  ...,  0.0105,  0.0115, -0.0086],\n",
      "        [-0.0018, -0.0013,  0.0026,  ..., -0.0042,  0.0268, -0.0020],\n",
      "        ...,\n",
      "        [-0.0016, -0.0189, -0.0003,  ...,  0.0085,  0.0243, -0.0074],\n",
      "        [ 0.0162, -0.0179,  0.0144,  ...,  0.0122, -0.0194, -0.0015],\n",
      "        [ 0.0003, -0.0040, -0.0039,  ...,  0.0020, -0.0022,  0.0067]])\n",
      "-------------------\n",
      "3th epoch\n",
      "===================\n",
      "Cross entropy:tensor([1.0021, 0.7089, 2.9173, 1.5572, 0.6490, 0.7045, 0.8609, 5.3302, 2.1615],\n",
      "       grad_fn=<NllLossBackward0>)\n",
      "Coefficients:  tensor([[-0.0129,  0.0146, -0.0095,  ..., -0.0071,  0.0108,  0.0130],\n",
      "        [-0.0019,  0.0078,  0.0101,  ...,  0.0101,  0.0115, -0.0086],\n",
      "        [-0.0018, -0.0013,  0.0026,  ..., -0.0045,  0.0268, -0.0020],\n",
      "        ...,\n",
      "        [-0.0016, -0.0189, -0.0003,  ...,  0.0078,  0.0243, -0.0074],\n",
      "        [ 0.0162, -0.0179,  0.0144,  ...,  0.0153, -0.0194, -0.0015],\n",
      "        [ 0.0003, -0.0040, -0.0039,  ...,  0.0013, -0.0022,  0.0067]])\n",
      "-------------------\n",
      "4th epoch\n",
      "===================\n",
      "Cross entropy:tensor([ 1.8880, 10.1205,  3.1495,  2.2188,  2.7041,  4.0283,  1.4310,  0.6076,\n",
      "         0.3391], grad_fn=<NllLossBackward0>)\n",
      "Coefficients:  tensor([[-0.0129,  0.0146, -0.0095,  ..., -0.0071,  0.0108,  0.0130],\n",
      "        [-0.0019,  0.0078,  0.0101,  ...,  0.0101,  0.0115, -0.0086],\n",
      "        [-0.0018, -0.0013,  0.0026,  ..., -0.0045,  0.0268, -0.0020],\n",
      "        ...,\n",
      "        [-0.0016, -0.0189, -0.0003,  ...,  0.0078,  0.0243, -0.0074],\n",
      "        [ 0.0162, -0.0179,  0.0144,  ...,  0.0153, -0.0194, -0.0015],\n",
      "        [ 0.0003, -0.0040, -0.0039,  ...,  0.0013, -0.0022,  0.0067]])\n",
      "-------------------\n",
      "5th epoch\n",
      "===================\n",
      "Cross entropy:tensor([2.7251, 2.5140, 0.6105, 2.5934, 3.3765, 2.3878, 3.3625, 2.0019, 2.1954],\n",
      "       grad_fn=<NllLossBackward0>)\n",
      "Coefficients:  tensor([[-0.0129,  0.0146, -0.0095,  ..., -0.0071,  0.0108,  0.0130],\n",
      "        [-0.0019,  0.0078,  0.0101,  ...,  0.0101,  0.0114, -0.0086],\n",
      "        [-0.0018, -0.0013,  0.0026,  ..., -0.0045,  0.0268, -0.0020],\n",
      "        ...,\n",
      "        [-0.0016, -0.0189, -0.0003,  ...,  0.0078,  0.0243, -0.0074],\n",
      "        [ 0.0162, -0.0179,  0.0144,  ...,  0.0153, -0.0193, -0.0015],\n",
      "        [ 0.0003, -0.0040, -0.0039,  ...,  0.0013, -0.0022,  0.0067]])\n"
     ]
    }
   ],
   "source": [
    "num_epochs = 5\n",
    "for epoch in range(num_epochs):\n",
    "    print('-------------------')\n",
    "    print(f'{epoch+1}th epoch')\n",
    "    print('===================')\n",
    "    logit_net.train()\n",
    "    logit_net.zero_grad()\n",
    "    img, label = next(iter(mnist_train_iter))\n",
    "    output = logit_net(img)\n",
    "\n",
    "    l = logit_loss(output,label)\n",
    "    print(f'Cross entropy:{l}')\n",
    "\n",
    "\n",
    "    l.mean().backward(retain_graph=True)\n",
    "\n",
    "    logit_trainer.step()\n",
    "    print('Coefficients: ',logit_net[1].weight.data)"
   ],
   "metadata": {
    "collapsed": false,
    "pycharm": {
     "name": "#%%\n"
    }
   }
  },
  {
   "cell_type": "code",
   "execution_count": 53,
   "outputs": [
    {
     "data": {
      "text/plain": "tensor([6, 5, 7, 3, 3, 1, 2, 5, 2])"
     },
     "execution_count": 53,
     "metadata": {},
     "output_type": "execute_result"
    }
   ],
   "source": [
    "img, label = next(iter(mnist_train_iter))\n",
    "label"
   ],
   "metadata": {
    "collapsed": false,
    "pycharm": {
     "name": "#%%\n"
    }
   }
  },
  {
   "cell_type": "code",
   "execution_count": 49,
   "outputs": [
    {
     "name": "stdout",
     "output_type": "stream",
     "text": [
      "tensor([[-0.0280, -0.0120,  0.1722, -0.0189, -0.0012,  0.0204,  0.2481, -0.0665,\n",
      "          0.1494,  0.0539],\n",
      "        [ 0.0860, -0.0827,  0.0981, -0.0666,  0.2536, -0.0898,  0.1182,  0.0058,\n",
      "         -0.0444, -0.0677],\n",
      "        [ 0.0363,  0.0248,  0.0345,  0.0495,  0.1045, -0.1097,  0.1063,  0.0230,\n",
      "          0.0538,  0.0805],\n",
      "        [ 0.0053,  0.0664,  0.0797,  0.0764,  0.0549,  0.0205,  0.1418,  0.1934,\n",
      "          0.1212,  0.1188],\n",
      "        [ 0.1453,  0.0145,  0.0952,  0.1326,  0.0291, -0.0722,  0.2881,  0.1600,\n",
      "          0.1594,  0.1218],\n",
      "        [-0.0495,  0.0617,  0.0846,  0.0037, -0.0513,  0.0721,  0.2300,  0.0879,\n",
      "          0.0834,  0.1524],\n",
      "        [ 0.0025,  0.0346,  0.0062, -0.0206,  0.0041,  0.0208,  0.0562,  0.0187,\n",
      "          0.0252,  0.0252],\n",
      "        [ 0.2094, -0.0157,  0.1228,  0.1042,  0.0586, -0.0223,  0.3365,  0.0940,\n",
      "          0.1114,  0.1710],\n",
      "        [ 0.1005, -0.0189,  0.0861,  0.0175,  0.1049,  0.0644,  0.3211,  0.1042,\n",
      "          0.0683,  0.0467]], grad_fn=<AddmmBackward0>)\n"
     ]
    }
   ],
   "source": [
    "X = logit_net(img)\n",
    "print(X)"
   ],
   "metadata": {
    "collapsed": false,
    "pycharm": {
     "name": "#%%\n"
    }
   }
  },
  {
   "cell_type": "code",
   "execution_count": 59,
   "outputs": [
    {
     "data": {
      "text/plain": "tensor([2.3872, 2.4194, 2.3101, 2.3255, 2.2543, 2.2888, 2.3014, 2.0882, 2.3099],\n       grad_fn=<NllLossBackward0>)"
     },
     "execution_count": 59,
     "metadata": {},
     "output_type": "execute_result"
    }
   ],
   "source": [
    "logit_loss(X,label)"
   ],
   "metadata": {
    "collapsed": false,
    "pycharm": {
     "name": "#%%\n"
    }
   }
  },
  {
   "cell_type": "code",
   "execution_count": null,
   "outputs": [],
   "source": [],
   "metadata": {
    "collapsed": false,
    "pycharm": {
     "name": "#%%\n"
    }
   }
  }
 ],
 "metadata": {
  "kernelspec": {
   "display_name": "Python 3",
   "language": "python",
   "name": "python3"
  },
  "language_info": {
   "codemirror_mode": {
    "name": "ipython",
    "version": 2
   },
   "file_extension": ".py",
   "mimetype": "text/x-python",
   "name": "python",
   "nbconvert_exporter": "python",
   "pygments_lexer": "ipython2",
   "version": "2.7.6"
  }
 },
 "nbformat": 4,
 "nbformat_minor": 0
}