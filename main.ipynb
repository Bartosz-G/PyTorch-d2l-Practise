{
 "cells": [
  {
   "cell_type": "code",
   "execution_count": 1,
   "metadata": {
    "collapsed": true
   },
   "outputs": [],
   "source": [
    "import torch\n",
    "import pandas as pd\n",
    "import numpy as np\n",
    "import torch.utils\n",
    "import torchvision.transforms\n",
    "from torch import nn\n",
    "import matplotlib.pyplot as plt\n",
    "%matplotlib inline\n",
    "\n",
    "torch.set_printoptions(threshold=1000)"
   ]
  },
  {
   "cell_type": "code",
   "execution_count": 32,
   "metadata": {},
   "outputs": [],
   "source": [
    "#Loading house prices training and test dataset\n",
    "hptrain = pd.read_csv(\"Datasets/hptrain.csv\",index_col=0)\n",
    "hptest = pd.read_csv(\"Datasets/hptest.csv\",index_col=0)"
   ]
  },
  {
   "cell_type": "code",
   "execution_count": 33,
   "metadata": {},
   "outputs": [],
   "source": [
    "#Transforming data into tensor data format from pandas' dataframe\n",
    "X_ols_train = torch.tensor(hptrain[['LotArea', 'OverallQual', 'OverallCond', 'MasVnrArea', 'TotalBsmtSF']].values,requires_grad=True,dtype=torch.float32)\n",
    "X_ols_train = nn.functional.normalize(X_ols_train)\n",
    "Y_ols_train = torch.tensor(hptrain[['SalePrice']].values,requires_grad=True,dtype=torch.float32)\n",
    "\n",
    "\n",
    "#Splitting data into iterable batches\n",
    "olstensor = torch.utils.data.TensorDataset(X_ols_train,Y_ols_train)\n",
    "olsdataloader = torch.utils.data.DataLoader(olstensor, batch_size=20,shuffle=True)"
   ]
  },
  {
   "cell_type": "code",
   "execution_count": 34,
   "metadata": {},
   "outputs": [],
   "source": [
    "#Specifying the paramenters of our model (ols - ordinary least squares i.e. linear regression)\n",
    "olsnet = nn.Sequential(nn.Linear(X_ols_train.size()[1],Y_ols_train.size()[1]))\n",
    "olsnet[0].weight.data.normal_(0, 0.1)\n",
    "olsnet[0].bias.data.normal_(0, 0.1)\n",
    "olsloss = nn.MSELoss()\n",
    "olstrainer = torch.optim.SGD(olsnet.parameters(),lr=0.0001)"
   ]
  },
  {
   "cell_type": "code",
   "execution_count": 35,
   "metadata": {},
   "outputs": [
    {
     "name": "stdout",
     "output_type": "stream",
     "text": [
      "-------------------\n",
      "1th epoch\n",
      "===================\n",
      "Loss ols:29889024000.0\n",
      "Coefficients:  tensor([[3.3032e+01, 1.1173e-02, 1.6113e-01, 3.2019e-01, 4.7043e+00]])\n",
      "-------------------\n",
      "2th epoch\n",
      "===================\n",
      "Loss ols:38795599872.0\n",
      "Coefficients:  tensor([[6.9708e+01, 4.3485e-02, 1.8754e-01, 5.9882e-01, 9.7254e+00]])\n",
      "-------------------\n",
      "3th epoch\n",
      "===================\n",
      "Loss ols:30773739520.0\n",
      "Coefficients:  tensor([[1.0256e+02, 6.8166e-02, 2.1024e-01, 9.3925e-01, 1.3945e+01]])\n",
      "-------------------\n",
      "4th epoch\n",
      "===================\n",
      "Loss ols:58688897024.0\n",
      "Coefficients:  tensor([[1.4750e+02, 9.6646e-02, 2.3292e-01, 1.5081e+00, 1.9511e+01]])\n",
      "-------------------\n",
      "5th epoch\n",
      "===================\n",
      "Loss ols:44163383296.0\n",
      "Coefficients:  tensor([[1.8386e+02, 1.2079e-01, 2.5332e-01, 1.8477e+00, 2.4070e+01]])\n"
     ]
    }
   ],
   "source": [
    "num_epochs = 5\n",
    "olsnet.train()\n",
    "for epoch in range(num_epochs):\n",
    "    print('-------------------')\n",
    "    print(f'{epoch+1}th epoch')\n",
    "    print('===================')\n",
    "    olstrainer.zero_grad()\n",
    "    X, Y = next(iter(olsdataloader))\n",
    "    output = olsnet(X)\n",
    "\n",
    "    l = olsloss(output,Y)\n",
    "    print(f'Loss ols:{l}')\n",
    "\n",
    "\n",
    "    l.backward(retain_graph=True)\n",
    "\n",
    "    olstrainer.step()\n",
    "    print('Coefficients: ',olsnet[0].weight.data)\n"
   ]
  },
  {
   "cell_type": "code",
   "execution_count": 36,
   "metadata": {},
   "outputs": [
    {
     "data": {
      "text/plain": [
       "'--------------------------------------------------------'"
      ]
     },
     "execution_count": 36,
     "metadata": {},
     "output_type": "execute_result"
    }
   ],
   "source": [
    "'''--------------------------------------------------------'''"
   ]
  },
  {
   "cell_type": "code",
   "execution_count": null,
   "outputs": [],
   "source": [
    "#Creating a class for displaying the results\n",
    "class Evaluation_Cross_Entropy:\n",
    "    \"\"\"For evaluating the accuracy of image recognition neural networks\"\"\"\n",
    "    def __init__(self,net,img = None,label = None,device='cpu'):\n",
    "        #History of saved error rates, used for in-sample error evaluation during network training\n",
    "        self.hist = []\n",
    "        self.loss = []\n",
    "        self.net = net\n",
    "        self.img = img\n",
    "        self.label = label\n",
    "        self.device = device\n",
    "\n",
    "    def prob(self):\n",
    "        \"\"\"Returns probabilities for each label\"\"\"\n",
    "        output = self.net(self.img).double().to(device=self.device)\n",
    "        exp = torch.exp(output)\n",
    "        sum = torch.sum(exp,dim=-1)\n",
    "        probabilities = exp / sum.unsqueeze(1)\n",
    "        return probabilities\n",
    "\n",
    "    def pred(self):\n",
    "        \"\"\"Returns the labels our model predicted for each image\"\"\"\n",
    "        pred = torch.argmax(self.prob(),dim=1)\n",
    "        return pred\n",
    "\n",
    "    def cert(self):\n",
    "        \"\"\"(certainty) Returns the probabilities of the chosen label for each image\"\"\"\n",
    "        return torch.amax(self.prob(),dim=1)\n",
    "\n",
    "    def error(self):\n",
    "        \"\"\"Returns misclassification error rate\"\"\"\n",
    "        return torch.sum(self.pred() != self.label)/len(self.label)\n",
    "\n",
    "    def missclass(self):\n",
    "        \"\"\"Returns what labels our model misclassified as a % of all misclassifications\"\"\"\n",
    "\n",
    "        #Vector of boolean values, True if an image has been misclassified\n",
    "        boo = self.label != self.pred()\n",
    "\n",
    "        #Finds indices of True booleans\n",
    "        temp = boo.nonzero()\n",
    "\n",
    "        #Reshapes the indices\n",
    "        temp2 = torch.reshape(temp,(1,temp.size(dim=0))).data[0]\n",
    "\n",
    "        #Finds the labels of misclassified images\n",
    "        temp3 = torch.index_select(self.label,0,temp2)\n",
    "\n",
    "        #Finds what image labels and how many of them have been misclassified\n",
    "        unique_miss, count_miss = torch.unique(temp3,sorted=True,return_counts=True)\n",
    "\n",
    "        #Finds all possible image labels\n",
    "        unique_label = torch.unique(self.label,sorted=True)\n",
    "\n",
    "        #Initiates values\n",
    "        count_label = torch.zeros(1,len(unique_label)).data[0]\n",
    "        j = 0\n",
    "\n",
    "        #Checks for an edge case where some images might have all been classified correctly and inputs 0s there\n",
    "        for i in range(len(unique_label)):\n",
    "            if unique_label[i] == unique_miss[j]:\n",
    "                count_label[i] = count_miss[j]\n",
    "                j +=1\n",
    "\n",
    "        #Returns a vector of % of labels misclassified\n",
    "        return count_miss/torch.sum(boo)\n",
    "\n",
    "\n",
    "    def add(self,img,label,loss = False):\n",
    "        \"\"\"Appends an error rate (and loss if not False) to the history)\"\"\"\n",
    "        self.img = img\n",
    "        self.label = label\n",
    "        self.hist.append(self.error().item())\n",
    "        self.loss.append(loss)\n",
    "\n",
    "    def plot_error(self):\n",
    "        \"\"\"Plots the in-sample error from training history\"\"\"\n",
    "\n",
    "        plt.plot(self.hist)\n",
    "        plt.ylabel('In-sample error')\n",
    "        plt.xlabel('Epoch')\n",
    "        plt.show()\n",
    "\n",
    "    def plot_loss(self):\n",
    "        \"\"\"Plots the loss from training history\"\"\"\n",
    "\n",
    "        plt.plot(self.loss)\n",
    "        plt.ylabel('Loss')\n",
    "        plt.xlabel('Epoch')\n",
    "        plt.show()\n"
   ],
   "metadata": {
    "collapsed": false,
    "pycharm": {
     "name": "#%%\n"
    }
   }
  },
  {
   "cell_type": "code",
   "execution_count": null,
   "outputs": [],
   "source": [
    "#Creating an automatic trainer to be used with sequential linear classes\n",
    "class Gradient_Img_Trainer:\n",
    "    \"\"\"Automatic trainer for linear classifiers embedded through a sequential class\"\"\"\n",
    "    def __init__(self,net,train_iter,loss,trainer,test_iter = None,scheduler = None,device='cpu'):\n",
    "        self.net = net.to(device=device)\n",
    "        self.train_iter = train_iter\n",
    "        self.loss = loss.to(device=device)\n",
    "        self.trainer = trainer\n",
    "        self.test_iter = test_iter\n",
    "        self.result = None\n",
    "        self.scheduler = scheduler\n",
    "        self.device = device\n",
    "\n",
    "    def dim(self):\n",
    "        \"\"\"Prints the output shapes of all layers\"\"\"\n",
    "        X,Y = next(iter(mnist_train_iter))\n",
    "        X,Y = X.to(device=self.device),Y.to(device=self.device)\n",
    "        for layer in self.net:\n",
    "            X = layer(X).to(device=self.device)\n",
    "            print(self.net.__class__.__name__,'output shape: \\t',X.shape)\n",
    "\n",
    "\n",
    "    def normal_init(self, std = 0.1):\n",
    "        \"\"\"Used for initializing the weights of the nn from a normal distribution\"\"\"\n",
    "        def init_normal(m):\n",
    "            if type(m) == nn.Linear:\n",
    "                nn.init.normal_(m.weight, std=std).to(device=self.device)\n",
    "\n",
    "        self.net.apply(init_normal)\n",
    "\n",
    "    def xavier_uniform(self):\n",
    "        \"\"\"Used for initializing the weights of the nn according to a xavier method from a uniform\"\"\"\n",
    "        def xavier(m):\n",
    "            if type(m)== nn.Linear:\n",
    "                nn.init.xavier_uniform_(m.weight).to(device=self.device)\n",
    "\n",
    "        self.net.apply(xavier)\n",
    "\n",
    "    def xavier_normal(self):\n",
    "        \"\"\"Used for initializing the weights of the nn according to a xavier method from a normal\"\"\"\n",
    "        def xavier(m):\n",
    "            if type(m)== nn.Linear:\n",
    "                nn.init.xavier_normal_(m.weight).to(device=self.device)\n",
    "\n",
    "        self.net.apply(xavier)\n",
    "\n",
    "\n",
    "    def Train(self, num_epochs, print_loss = True, print_error = True):\n",
    "        \"\"\"Used for training the neural network\n",
    "                :param print_loss: - print loss for each epoch\n",
    "                :param print_error: - print error for each epoch\n",
    "                :param graph: - graph in-sample error at the end of training\"\"\"\n",
    "        self.net.train()\n",
    "        result = Evaluation_Cross_Entropy(net=self.net,device=self.device)\n",
    "        for epoch in range(num_epochs):\n",
    "            if print_loss is True or print_error is True:\n",
    "                print('-------------------')\n",
    "                print(f'{epoch+1}th epoch')\n",
    "                print('===================')\n",
    "\n",
    "            self.net.zero_grad()\n",
    "\n",
    "            #Trainig the model\n",
    "            img, label = next(iter(self.train_iter))\n",
    "            img,label = img.to(device=self.device),label.to(device=self.device)\n",
    "            output = self.net(img).to(device=self.device)\n",
    "            l = self.loss(output,label)\n",
    "            l.mean().backward()\n",
    "            self.trainer.step()\n",
    "\n",
    "            result.add(img, label, l.sum().item())\n",
    "\n",
    "            #Adjusting the learning rate\n",
    "            if self.scheduler is not None:\n",
    "                self.scheduler.step()\n",
    "\n",
    "            if print_loss is True:\n",
    "                print(\"Loss:\",l.sum().item())\n",
    "\n",
    "            if print_error is True:\n",
    "                print(\"In-sample error:\", result.error())\n",
    "\n",
    "\n",
    "        self.result = result\n",
    "        torch.cuda.empty_cache()\n",
    "\n",
    "    def Test(self,test_iter=None):\n",
    "        self.net.eval()\n",
    "        if self.test_iter is None:\n",
    "            self.test_iter = test_iter\n",
    "        img, label = next(iter(self.test_iter))\n",
    "        self.result.img = img.to(device=self.device)\n",
    "        self.result.label = label.to(device=self.device)\n",
    "        print(\"Out-of-sample error:\",self.result.error())\n",
    "        torch.cuda.empty_cache()"
   ],
   "metadata": {
    "collapsed": false,
    "pycharm": {
     "name": "#%%\n"
    }
   }
  },
  {
   "cell_type": "code",
   "execution_count": null,
   "outputs": [],
   "source": [
    "#Loading in complex MNIST train and test datasets while transforming them to 28x28\n",
    "trans = [torchvision.transforms.ToTensor()]\n",
    "trans.insert(0, torchvision.transforms.Resize(28))\n",
    "trans = torchvision.transforms.Compose(trans)\n",
    "\n",
    "\n",
    "mnist_train = torchvision.datasets.FashionMNIST(\n",
    "    root=\"../Pytorch_Practise/Datasets\",train = True, transform=trans, download= True)\n",
    "mnist_test = torchvision.datasets.FashionMNIST(\n",
    "    root=\"../Pytorch_Practise/Datasets\",train = False, transform=trans, download= True)"
   ],
   "metadata": {
    "collapsed": false,
    "pycharm": {
     "name": "#%%\n"
    }
   }
  },
  {
   "cell_type": "code",
   "execution_count": null,
   "outputs": [],
   "source": [
    "#Visualizing 9 random examples\n",
    "labels_map = {\n",
    "    0: \"T-Shirt\",\n",
    "    1: \"Trouser\",\n",
    "    2: \"Pullover\",\n",
    "    3: \"Dress\",\n",
    "    4: \"Coat\",\n",
    "    5: \"Sandal\",\n",
    "    6: \"Shirt\",\n",
    "    7: \"Sneaker\",\n",
    "    8: \"Bag\",\n",
    "    9: \"Ankle Boot\",\n",
    "}\n",
    "\n",
    "figure = plt.figure(figsize=(8, 8))\n",
    "cols, rows = 3, 3\n",
    "\n",
    "for i in range(1, cols * rows + 1):\n",
    "    sample_idx = torch.randint(len(mnist_train), size=(1,)).item()\n",
    "    imge, labele = mnist_train[sample_idx]\n",
    "    figure.add_subplot(rows, cols, i)\n",
    "    plt.title(labels_map[labele])\n",
    "    plt.axis(\"off\")\n",
    "    plt.imshow(imge.squeeze())\n",
    "plt.show()"
   ],
   "metadata": {
    "collapsed": false,
    "pycharm": {
     "name": "#%%\n"
    }
   }
  },
  {
   "cell_type": "code",
   "execution_count": null,
   "outputs": [],
   "source": [
    "#Splitting our data into batch sizes\n",
    "mnist_batch_size = 256\n",
    "\n",
    "mnist_train_iter = torch.utils.data.DataLoader(mnist_train,mnist_batch_size,shuffle=True,num_workers=4,pin_memory=True)\n",
    "mnist_test_iter = torch.utils.data.DataLoader(mnist_test,mnist_test.__len__(),shuffle=False,num_workers=4,pin_memory=True)\n",
    "\n",
    "\n"
   ],
   "metadata": {
    "collapsed": false,
    "pycharm": {
     "name": "#%%\n"
    }
   }
  },
  {
   "cell_type": "code",
   "execution_count": null,
   "outputs": [],
   "source": [
    "#Creating the model and initializing the weights (logit - logistic regression)\n",
    "logit_net = nn.Sequential(nn.Flatten(),nn.Linear(784,10))\n",
    "\n",
    "\n",
    "#Initializing weights\n",
    "def init_weights(m):\n",
    "    if type(m) == nn.Linear:\n",
    "        nn.init.normal_(m.weight, std=0.01)\n",
    "\n",
    "logit_net.apply(init_weights)\n",
    "\n",
    "#Specifying cross entropy loss\n",
    "logit_loss = nn.CrossEntropyLoss(reduction='none')\n",
    "\n",
    "#Specifying Stochastic Gradient Descent trainer\n",
    "logit_trainer = torch.optim.SGD(logit_net.parameters(), lr=0.1)"
   ],
   "metadata": {
    "collapsed": false,
    "pycharm": {
     "name": "#%%\n"
    }
   }
  },
  {
   "cell_type": "code",
   "execution_count": null,
   "outputs": [],
   "source": [
    "logit_training = Gradient_Img_Trainer(logit_net, mnist_train_iter, logit_loss, logit_trainer, mnist_test_iter)\n",
    "logit_training.Train(50)"
   ],
   "metadata": {
    "collapsed": false,
    "pycharm": {
     "name": "#%%\n"
    }
   }
  },
  {
   "cell_type": "code",
   "execution_count": null,
   "outputs": [],
   "source": [
    "logit_training.result.plot_error()"
   ],
   "metadata": {
    "collapsed": false,
    "pycharm": {
     "name": "#%%\n"
    }
   }
  },
  {
   "cell_type": "code",
   "execution_count": null,
   "outputs": [],
   "source": [
    "logit_training.result.plot_loss()"
   ],
   "metadata": {
    "collapsed": false,
    "pycharm": {
     "name": "#%%\n"
    }
   }
  },
  {
   "cell_type": "code",
   "execution_count": null,
   "outputs": [],
   "source": [
    "logit_training.Test()"
   ],
   "metadata": {
    "collapsed": false,
    "pycharm": {
     "name": "#%%\n"
    }
   }
  },
  {
   "cell_type": "code",
   "execution_count": null,
   "outputs": [],
   "source": [
    "'''--------------------------------------------------------'''"
   ],
   "metadata": {
    "collapsed": false,
    "pycharm": {
     "name": "#%%\n"
    }
   }
  },
  {
   "cell_type": "code",
   "execution_count": null,
   "outputs": [],
   "source": [
    "#Perceptron initiation\n",
    "\n",
    "MLP = nn.Sequential(nn.Flatten(),\n",
    "                    nn.Linear(784,256),\n",
    "                    nn.ReLU(),\n",
    "                    nn.Linear(256,10))\n",
    "\n",
    "def init_weights(m):\n",
    "    if type(m) == nn.Linear:\n",
    "        nn.init.normal_(m.weight, std=0.01)\n",
    "\n",
    "MLP.apply(init_weights)\n",
    "\n",
    "MLP_loss = nn.CrossEntropyLoss(reduction='none')\n",
    "\n",
    "MLP_trainer = torch.optim.SGD(MLP.parameters(),lr = 0.1)"
   ],
   "metadata": {
    "collapsed": false,
    "pycharm": {
     "name": "#%%\n"
    }
   }
  },
  {
   "cell_type": "code",
   "execution_count": null,
   "outputs": [],
   "source": [
    "MLP_Training = Gradient_Img_Trainer(MLP, mnist_train_iter, MLP_loss, MLP_trainer, mnist_test_iter)\n",
    "MLP_Training.Train(50)"
   ],
   "metadata": {
    "collapsed": false,
    "pycharm": {
     "name": "#%%\n"
    }
   }
  },
  {
   "cell_type": "code",
   "execution_count": null,
   "outputs": [],
   "source": [
    "MLP_Training.result.plot_error()"
   ],
   "metadata": {
    "collapsed": false,
    "pycharm": {
     "name": "#%%\n"
    }
   }
  },
  {
   "cell_type": "code",
   "execution_count": null,
   "outputs": [],
   "source": [
    "MLP_Training.Test()"
   ],
   "metadata": {
    "collapsed": false,
    "pycharm": {
     "name": "#%%\n"
    }
   }
  },
  {
   "cell_type": "code",
   "execution_count": null,
   "outputs": [],
   "source": [
    "'''--------------------------------------------------------'''"
   ],
   "metadata": {
    "collapsed": false,
    "pycharm": {
     "name": "#%%\n"
    }
   }
  },
  {
   "cell_type": "code",
   "execution_count": null,
   "outputs": [],
   "source": [
    "#Running a logistic regression with weight decay\n",
    "\n",
    "Wd_net = nn.Sequential(nn.Flatten(),\n",
    "                    nn.Linear(784,10))\n",
    "\n",
    "def init_weights(m):\n",
    "    if type(m) == nn.Linear:\n",
    "        nn.init.normal_(m.weight, std=0.01)\n",
    "\n",
    "Wd_net.apply(init_weights)\n",
    "\n",
    "Wd_loss = nn.CrossEntropyLoss(reduction='none')\n",
    "\n",
    "Weight_decay = 10\n",
    "\n",
    "Wd_trainer = torch.optim.SGD([\n",
    "    {\"params\":Wd_net[1].weight,'weight decay':Weight_decay},\n",
    "    {\"params\":Wd_net[1].bias}],lr = 0.1)"
   ],
   "metadata": {
    "collapsed": false,
    "pycharm": {
     "name": "#%%\n"
    }
   }
  },
  {
   "cell_type": "code",
   "execution_count": null,
   "outputs": [],
   "source": [
    "Wd_Training = Gradient_Img_Trainer(Wd_net, mnist_train_iter, Wd_loss, Wd_trainer, mnist_test_iter)\n",
    "Wd_Training.Train(50)"
   ],
   "metadata": {
    "collapsed": false,
    "pycharm": {
     "name": "#%%\n"
    }
   }
  },
  {
   "cell_type": "code",
   "execution_count": null,
   "outputs": [],
   "source": [
    "Wd_Training.Test()"
   ],
   "metadata": {
    "collapsed": false,
    "pycharm": {
     "name": "#%%\n"
    }
   }
  },
  {
   "cell_type": "code",
   "execution_count": null,
   "outputs": [],
   "source": [
    "'''--------------------------------------------------------'''"
   ],
   "metadata": {
    "collapsed": false,
    "pycharm": {
     "name": "#%%\n"
    }
   }
  },
  {
   "cell_type": "code",
   "execution_count": null,
   "outputs": [],
   "source": [
    "#MLP with Drop-out\n",
    "\n",
    "Dropout_net = nn.Sequential(nn.Flatten(),\n",
    "                            nn.Linear(784,256),\n",
    "                            nn.ReLU(),\n",
    "                            nn.Dropout(0.2),\n",
    "                            nn.Linear(256,256),\n",
    "                            nn.ReLU(0.5),\n",
    "                            nn.Dropout(0.5),\n",
    "                            nn.Linear(256,10)\n",
    "                            )\n",
    "\n",
    "def init_weights(m):\n",
    "    if type(m) == nn.Linear:\n",
    "        nn.init.normal_(m.weight, std=0.01)\n",
    "\n",
    "Dropout_net.apply(init_weights)\n",
    "\n",
    "Dropout_loss = nn.CrossEntropyLoss(reduction='none')\n",
    "Dropout_trainer = torch.optim.SGD(Dropout_net.parameters(), lr = 0.5)"
   ],
   "metadata": {
    "collapsed": false,
    "pycharm": {
     "name": "#%%\n"
    }
   }
  },
  {
   "cell_type": "code",
   "execution_count": null,
   "outputs": [],
   "source": [
    "#Training with Drop-out\n",
    "Dropout_training = Gradient_Img_Trainer(Dropout_net,mnist_train_iter,Dropout_loss,\n",
    "                                        Dropout_trainer,mnist_test_iter)\n",
    "Dropout_training.Train(150)"
   ],
   "metadata": {
    "collapsed": false,
    "pycharm": {
     "name": "#%%\n"
    }
   }
  },
  {
   "cell_type": "code",
   "execution_count": null,
   "outputs": [],
   "source": [
    "#Testing\n",
    "Dropout_training.Test()"
   ],
   "metadata": {
    "collapsed": false,
    "pycharm": {
     "name": "#%%\n"
    }
   }
  },
  {
   "cell_type": "code",
   "execution_count": null,
   "outputs": [],
   "source": [
    "'''--------------------------------------------------------'''"
   ],
   "metadata": {
    "collapsed": false,
    "pycharm": {
     "name": "#%%\n"
    }
   }
  },
  {
   "cell_type": "code",
   "execution_count": null,
   "outputs": [],
   "source": [
    "#Basic CNN implementation\n",
    "CNN = nn.Sequential(\n",
    "    nn.Conv2d(1,6,kernel_size=5,padding=2),nn.ReLU(),\n",
    "    nn.MaxPool2d(kernel_size=2,stride=2),\n",
    "    nn.Conv2d(6,16,kernel_size=5), nn.ReLU(),\n",
    "    nn.MaxPool2d(kernel_size=2,stride=2),\n",
    "    nn.Flatten(),\n",
    "    nn.Linear(16*5*5,120), nn.ReLU(),\n",
    "    nn.Linear(120,84), nn.ReLU(),\n",
    "    nn.Linear(84,10))\n",
    "\n",
    "def xavier_init(m):\n",
    "    if type(m)== nn.Linear:\n",
    "        nn.init.xavier_uniform_(m.weight)\n",
    "\n",
    "CNN.apply(xavier_init)\n",
    "\n",
    "\n",
    "CNN_loss = nn.CrossEntropyLoss(reduction='none')\n",
    "\n",
    "CNN_trainer = torch.optim.SGD(CNN.parameters(),lr = 0.3)"
   ],
   "metadata": {
    "collapsed": false,
    "pycharm": {
     "name": "#%%\n"
    }
   }
  },
  {
   "cell_type": "code",
   "execution_count": null,
   "outputs": [],
   "source": [
    "#Training of our CNN\n",
    "CNN_training = Gradient_Img_Trainer(CNN,mnist_train_iter,CNN_loss,CNN_trainer,mnist_test_iter)\n",
    "CNN_training.Train(600, print_loss=False)"
   ],
   "metadata": {
    "collapsed": false,
    "pycharm": {
     "name": "#%%\n"
    }
   }
  },
  {
   "cell_type": "code",
   "execution_count": null,
   "outputs": [],
   "source": [
    "#Testing our model (we'd normally use validation set here to avoid overfitting to test data)\n",
    "CNN_training.Test()"
   ],
   "metadata": {
    "collapsed": false,
    "pycharm": {
     "name": "#%%\n"
    }
   }
  },
  {
   "cell_type": "code",
   "execution_count": null,
   "outputs": [],
   "source": [
    "'''--------------------------------------------------------'''"
   ],
   "metadata": {
    "collapsed": false,
    "pycharm": {
     "name": "#%%\n"
    }
   }
  },
  {
   "cell_type": "code",
   "execution_count": null,
   "outputs": [],
   "source": [
    "#Running a CNN with learning rate decay\n",
    "CNN2 = nn.Sequential(\n",
    "    nn.Conv2d(1,6,kernel_size=5,padding=2),nn.ReLU(),\n",
    "    nn.MaxPool2d(kernel_size=2,stride=2),\n",
    "    nn.Conv2d(6,16,kernel_size=5), nn.ReLU(),\n",
    "    nn.MaxPool2d(kernel_size=2,stride=2),\n",
    "    nn.Flatten(),\n",
    "    nn.Linear(16*5*5,120), nn.ReLU(),nn.Dropout(0.2),\n",
    "    nn.Linear(120,84), nn.ReLU(),nn.Dropout(0.2),\n",
    "    nn.Linear(84,10))\n",
    "\n",
    "def xavier_init(m):\n",
    "    if type(m)== nn.Linear:\n",
    "        nn.init.xavier_uniform_(m.weight)\n",
    "\n",
    "CNN2.apply(xavier_init)\n",
    "\n",
    "\n",
    "CNN2_loss = nn.CrossEntropyLoss(reduction='none')\n",
    "\n",
    "CNN2_trainer = torch.optim.SGD(CNN2.parameters(),lr = 0.3)\n",
    "\n",
    "CNN2_scheduler = torch.optim.lr_scheduler.MultiStepLR(CNN2_trainer,milestones=[50,100,200,400,600,700],gamma=0.8)"
   ],
   "metadata": {
    "collapsed": false,
    "pycharm": {
     "name": "#%%\n"
    }
   }
  },
  {
   "cell_type": "code",
   "execution_count": null,
   "outputs": [],
   "source": [
    "#Training our model with decaying learning rate scheduled at 50'th and 600'th epoch\n",
    "CNN2_training = Gradient_Img_Trainer(CNN2,mnist_train_iter,CNN2_loss,CNN2_trainer,mnist_test_iter,CNN2_scheduler)\n",
    "CNN2_training.Train(800, print_loss=False)"
   ],
   "metadata": {
    "collapsed": false,
    "pycharm": {
     "name": "#%%\n"
    }
   }
  },
  {
   "cell_type": "code",
   "execution_count": null,
   "outputs": [],
   "source": [
    "CNN2_training.Test()"
   ],
   "metadata": {
    "collapsed": false,
    "pycharm": {
     "name": "#%%\n"
    }
   }
  },
  {
   "cell_type": "code",
   "execution_count": null,
   "outputs": [],
   "source": [
    "'''--------------------------------------------------------'''"
   ],
   "metadata": {
    "collapsed": false,
    "pycharm": {
     "name": "#%%\n"
    }
   }
  },
  {
   "cell_type": "code",
   "execution_count": null,
   "outputs": [],
   "source": [
    "##CUDA"
   ],
   "metadata": {
    "collapsed": false,
    "pycharm": {
     "name": "#%%\n"
    }
   }
  },
  {
   "cell_type": "code",
   "execution_count": null,
   "outputs": [],
   "source": [
    "#For our CNN implementation we'll be significantly increasing our batch sizes\n",
    "mnist_batch_size = 1024\n",
    "\n",
    "mnist_train_iter = torch.utils.data.DataLoader(mnist_train,mnist_batch_size,shuffle=True,pin_memory=True,pin_memory_device='cuda:0')\n",
    "mnist_test_iter = torch.utils.data.DataLoader(mnist_test,mnist_test.__len__(),shuffle=False,pin_memory=True,pin_memory_device='cuda:0')"
   ],
   "metadata": {
    "collapsed": false,
    "pycharm": {
     "name": "#%%\n"
    }
   }
  },
  {
   "cell_type": "code",
   "execution_count": null,
   "outputs": [],
   "source": [
    "#Experimenting with convolutions and batch normalization\n",
    "CNN3 = nn.Sequential(\n",
    "    nn.Conv2d(1,16,kernel_size=5,padding=2),nn.BatchNorm2d(16),nn.ReLU(),\n",
    "    nn.MaxPool2d(kernel_size=2,stride=2),\n",
    "    nn.Conv2d(16,64,kernel_size=3,padding=1),nn.BatchNorm2d(64),nn.ReLU(),\n",
    "    nn.Conv2d(64,64,kernel_size=3,padding=1),nn.BatchNorm2d(64),nn.ReLU(),\n",
    "    nn.Conv2d(64,16,kernel_size=3,padding=1),nn.BatchNorm2d(16),nn.ReLU(),\n",
    "    nn.MaxPool2d(kernel_size=2,stride=2),\n",
    "    nn.Flatten(),\n",
    "    nn.Linear(784,120),nn.BatchNorm1d(120), nn.ReLU(),\n",
    "    nn.Linear(120,84),nn.BatchNorm1d(84),nn.ReLU(),\n",
    "    nn.Linear(84,10))"
   ],
   "metadata": {
    "collapsed": false,
    "pycharm": {
     "name": "#%%\n"
    }
   }
  },
  {
   "cell_type": "code",
   "execution_count": null,
   "outputs": [],
   "source": [
    "#Running a CNN with learning rate decay\n",
    "def xavier_init(m):\n",
    "    if type(m)== nn.Linear:\n",
    "        nn.init.xavier_uniform_(m.weight).cuda()\n",
    "\n",
    "CNN3.apply(xavier_init)\n",
    "\n",
    "\n",
    "CNN3_loss = nn.CrossEntropyLoss(reduction='none')\n",
    "\n",
    "CNN3_trainer = torch.optim.SGD(CNN3.parameters(),lr = 0.3)\n",
    "\n",
    "CNN3_scheduler = torch.optim.lr_scheduler.MultiStepLR(CNN3_trainer,milestones=[50,100,200,400,600,700],gamma=0.8)"
   ],
   "metadata": {
    "collapsed": false,
    "pycharm": {
     "name": "#%%\n"
    }
   }
  },
  {
   "cell_type": "code",
   "execution_count": null,
   "outputs": [],
   "source": [
    "#Training the model\n",
    "CNN3_training = Gradient_Img_Trainer(CNN3,mnist_train_iter,CNN3_loss,CNN3_trainer,mnist_test_iter,CNN3_scheduler,'cuda:0')\n",
    "\n",
    "CNN3_training.Train(800,print_loss=False)"
   ],
   "metadata": {
    "collapsed": false,
    "pycharm": {
     "name": "#%%\n"
    }
   }
  },
  {
   "cell_type": "code",
   "execution_count": null,
   "outputs": [],
   "source": [
    "CNN3_training.result.plot_error()"
   ],
   "metadata": {
    "collapsed": false,
    "pycharm": {
     "name": "#%%\n"
    }
   }
  },
  {
   "cell_type": "code",
   "execution_count": null,
   "outputs": [],
   "source": [
    "CNN3_training.result.plot_loss()"
   ],
   "metadata": {
    "collapsed": false,
    "pycharm": {
     "name": "#%%\n"
    }
   }
  },
  {
   "cell_type": "code",
   "execution_count": null,
   "outputs": [],
   "source": [
    "#We're starting to see promising results\n",
    "CNN3_training.Test()"
   ],
   "metadata": {
    "collapsed": false,
    "pycharm": {
     "name": "#%%\n"
    }
   }
  },
  {
   "cell_type": "code",
   "execution_count": 56,
   "metadata": {},
   "outputs": [
    {
     "name": "stdout",
     "output_type": "stream",
     "text": [
      "Out-of-sample error: tensor(0.0852, device='cuda:0')\n"
     ]
    }
   ],
   "source": [
    "#We're starting to see promising results\n",
    "CNN3_training.Test()"
   ]
  },
  {
   "cell_type": "code",
   "execution_count": null,
   "metadata": {},
   "outputs": [],
   "source": []
  }
 ],
 "metadata": {
  "kernelspec": {
   "display_name": "Python 3 (ipykernel)",
   "language": "python",
   "name": "python3"
  },
  "language_info": {
   "codemirror_mode": {
    "name": "ipython",
    "version": 3
   },
   "file_extension": ".py",
   "mimetype": "text/x-python",
   "name": "python",
   "nbconvert_exporter": "python",
   "pygments_lexer": "ipython3",
   "version": "3.9.13"
  }
 },
 "nbformat": 4,
 "nbformat_minor": 1
}