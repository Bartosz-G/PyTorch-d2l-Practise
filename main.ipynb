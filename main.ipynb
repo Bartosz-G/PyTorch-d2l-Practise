{
 "cells": [
  {
   "cell_type": "code",
   "execution_count": 7,
   "metadata": {
    "collapsed": true,
    "pycharm": {
     "name": "#%%\n"
    }
   },
   "outputs": [],
   "source": [
    "import torch\n",
    "import pandas as pd\n",
    "import numpy as np\n",
    "import torch.utils\n",
    "import torchvision.transforms\n",
    "from torch import nn\n",
    "%matplotlib inline"
   ]
  },
  {
   "cell_type": "code",
   "execution_count": 8,
   "outputs": [],
   "source": [
    "#Loading house prices training and test dataset\n",
    "hptrain = pd.read_csv(\"Datasets/hptrain.csv\",index_col=0)\n",
    "hptest = pd.read_csv(\"Datasets/hptest.csv\",index_col=0)"
   ],
   "metadata": {
    "collapsed": false,
    "pycharm": {
     "name": "#%%\n"
    }
   }
  },
  {
   "cell_type": "code",
   "execution_count": 9,
   "outputs": [],
   "source": [
    "#Transforming data into tensor data format from pandas' dataframe\n",
    "X_ols_train = torch.tensor(hptrain[['LotArea', 'OverallQual', 'OverallCond', 'MasVnrArea', 'TotalBsmtSF']].values,requires_grad=True,dtype=torch.float32)\n",
    "X_ols_train = nn.functional.normalize(X_ols_train)\n",
    "Y_ols_train = torch.tensor(hptrain[['SalePrice']].values,requires_grad=True,dtype=torch.float32)\n",
    "\n",
    "\n",
    "#Splitting data into iterable batches\n",
    "olstensor = torch.utils.data.TensorDataset(X_ols_train,Y_ols_train)\n",
    "olsdataloader = torch.utils.data.DataLoader(olstensor, batch_size=20,shuffle=True)"
   ],
   "metadata": {
    "collapsed": false,
    "pycharm": {
     "name": "#%%\n"
    }
   }
  },
  {
   "cell_type": "code",
   "execution_count": 10,
   "outputs": [],
   "source": [
    "#Specifying the paramenters of our model\n",
    "olsnet = nn.Sequential(nn.Linear(X_ols_train.size()[1],Y_ols_train.size()[1]))\n",
    "olsnet[0].weight.data.normal_(0, 0.1)\n",
    "olsnet[0].bias.data.normal_(0, 0.1)\n",
    "olsloss = nn.MSELoss()\n",
    "olstrainer = torch.optim.SGD(olsnet.parameters(),lr=1)"
   ],
   "metadata": {
    "collapsed": false,
    "pycharm": {
     "name": "#%%\n"
    }
   }
  },
  {
   "cell_type": "code",
   "execution_count": 11,
   "outputs": [
    {
     "name": "stdout",
     "output_type": "stream",
     "text": [
      "-------------------\n",
      "1th epoch\n",
      "===================\n",
      "Loss ols:26435522560.0\n",
      "Coefficients:  tensor([[3.1179e+05, 2.4027e+02, 2.2780e+02, 2.0612e+03, 3.6712e+04]])\n",
      "-------------------\n",
      "2th epoch\n",
      "===================\n",
      "Loss ols:204700188672.0\n",
      "Coefficients:  tensor([[-5.6857e+05, -4.6289e+02, -3.6102e+02, -4.1723e+03, -7.1970e+04]])\n",
      "-------------------\n",
      "3th epoch\n",
      "===================\n",
      "Loss ols:1753555927040.0\n",
      "Coefficients:  tensor([[2.0557e+06, 1.3825e+03, 1.4020e+03, 3.0995e+04, 2.2951e+05]])\n",
      "-------------------\n",
      "4th epoch\n",
      "===================\n",
      "Loss ols:15534315798528.0\n",
      "Coefficients:  tensor([[-5.7375e+06, -4.0934e+03, -3.5024e+03, -7.1419e+04, -7.4276e+05]])\n",
      "-------------------\n",
      "5th epoch\n",
      "===================\n",
      "Loss ols:137933092814848.0\n",
      "Coefficients:  tensor([[1.7539e+07, 1.5327e+04, 1.6608e+04, 2.7375e+04, 1.9100e+06]])\n",
      "-------------------\n",
      "6th epoch\n",
      "===================\n",
      "Loss ols:1227145976217600.0\n",
      "Coefficients:  tensor([[-5.1468e+07, -4.6904e+04, -3.9147e+04, -1.1310e+06, -7.9574e+06]])\n",
      "-------------------\n",
      "7th epoch\n",
      "===================\n",
      "Loss ols:nan\n",
      "Coefficients:  tensor([[nan, nan, nan, nan, nan]])\n",
      "-------------------\n",
      "8th epoch\n",
      "===================\n",
      "Loss ols:nan\n",
      "Coefficients:  tensor([[nan, nan, nan, nan, nan]])\n",
      "-------------------\n",
      "9th epoch\n",
      "===================\n",
      "Loss ols:nan\n",
      "Coefficients:  tensor([[nan, nan, nan, nan, nan]])\n",
      "-------------------\n",
      "10th epoch\n",
      "===================\n",
      "Loss ols:nan\n",
      "Coefficients:  tensor([[nan, nan, nan, nan, nan]])\n"
     ]
    }
   ],
   "source": [
    "num_epochs = 10\n",
    "olsnet.train()\n",
    "for epoch in range(num_epochs):\n",
    "    print('-------------------')\n",
    "    print(f'{epoch+1}th epoch')\n",
    "    print('===================')\n",
    "    olstrainer.zero_grad()\n",
    "    X, Y = next(iter(olsdataloader))\n",
    "    output = olsnet(X)\n",
    "\n",
    "    l = olsloss(output,Y)\n",
    "    print(f'Loss ols:{l}')\n",
    "\n",
    "\n",
    "    l.backward(retain_graph=True)\n",
    "\n",
    "    olstrainer.step()\n",
    "    print('Coefficients: ',olsnet[0].weight.data)\n"
   ],
   "metadata": {
    "collapsed": false,
    "pycharm": {
     "name": "#%%\n"
    }
   }
  },
  {
   "cell_type": "code",
   "execution_count": 12,
   "outputs": [],
   "source": [
    "#Loading in complex MNIST train and test datasets\n",
    "trans = torchvision.transforms.ToTensor()\n"
   ],
   "metadata": {
    "collapsed": false,
    "pycharm": {
     "name": "#%%\n"
    }
   }
  }
 ],
 "metadata": {
  "kernelspec": {
   "display_name": "Python 3",
   "language": "python",
   "name": "python3"
  },
  "language_info": {
   "codemirror_mode": {
    "name": "ipython",
    "version": 2
   },
   "file_extension": ".py",
   "mimetype": "text/x-python",
   "name": "python",
   "nbconvert_exporter": "python",
   "pygments_lexer": "ipython2",
   "version": "2.7.6"
  }
 },
 "nbformat": 4,
 "nbformat_minor": 0
}