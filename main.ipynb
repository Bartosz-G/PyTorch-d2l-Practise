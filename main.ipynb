{
 "cells": [
  {
   "cell_type": "code",
   "execution_count": 1,
   "metadata": {
    "collapsed": true,
    "pycharm": {
     "name": "#%%\n"
    }
   },
   "outputs": [],
   "source": [
    "import torch\n",
    "import pandas as pd\n",
    "import numpy as np\n",
    "import torch.utils\n",
    "import torchvision.transforms\n",
    "from torch import nn\n",
    "import matplotlib.pyplot as plt\n",
    "%matplotlib inline\n",
    "\n",
    "torch.set_printoptions(threshold=10000)"
   ]
  },
  {
   "cell_type": "code",
   "execution_count": 2,
   "outputs": [],
   "source": [
    "#Loading house prices training and test dataset\n",
    "hptrain = pd.read_csv(\"Datasets/hptrain.csv\",index_col=0)\n",
    "hptest = pd.read_csv(\"Datasets/hptest.csv\",index_col=0)"
   ],
   "metadata": {
    "collapsed": false,
    "pycharm": {
     "name": "#%%\n"
    }
   }
  },
  {
   "cell_type": "code",
   "execution_count": 3,
   "outputs": [],
   "source": [
    "#Transforming data into tensor data format from pandas' dataframe\n",
    "X_ols_train = torch.tensor(hptrain[['LotArea', 'OverallQual', 'OverallCond', 'MasVnrArea', 'TotalBsmtSF']].values,requires_grad=True,dtype=torch.float32)\n",
    "X_ols_train = nn.functional.normalize(X_ols_train)\n",
    "Y_ols_train = torch.tensor(hptrain[['SalePrice']].values,requires_grad=True,dtype=torch.float32)\n",
    "\n",
    "\n",
    "#Splitting data into iterable batches\n",
    "olstensor = torch.utils.data.TensorDataset(X_ols_train,Y_ols_train)\n",
    "olsdataloader = torch.utils.data.DataLoader(olstensor, batch_size=20,shuffle=True)"
   ],
   "metadata": {
    "collapsed": false,
    "pycharm": {
     "name": "#%%\n"
    }
   }
  },
  {
   "cell_type": "code",
   "execution_count": 4,
   "outputs": [],
   "source": [
    "#Specifying the paramenters of our model (ols - ordinary least squares i.e. linear regression)\n",
    "olsnet = nn.Sequential(nn.Linear(X_ols_train.size()[1],Y_ols_train.size()[1]))\n",
    "olsnet[0].weight.data.normal_(0, 0.1)\n",
    "olsnet[0].bias.data.normal_(0, 0.1)\n",
    "olsloss = nn.MSELoss()\n",
    "olstrainer = torch.optim.SGD(olsnet.parameters(),lr=0.0001)"
   ],
   "metadata": {
    "collapsed": false,
    "pycharm": {
     "name": "#%%\n"
    }
   }
  },
  {
   "cell_type": "code",
   "execution_count": 5,
   "outputs": [
    {
     "name": "stdout",
     "output_type": "stream",
     "text": [
      "-------------------\n",
      "1th epoch\n",
      "===================\n",
      "Loss ols:42911813632.0\n",
      "Coefficients:  tensor([[3.8242e+01, 2.2751e-02, 1.1537e-01, 7.9643e-01, 4.8422e+00]])\n",
      "-------------------\n",
      "2th epoch\n",
      "===================\n",
      "Loss ols:66449461248.0\n",
      "Coefficients:  tensor([[8.6509e+01, 5.1737e-02, 1.3776e-01, 1.5267e+00, 9.8387e+00]])\n",
      "-------------------\n",
      "3th epoch\n",
      "===================\n",
      "Loss ols:32289910784.0\n",
      "Coefficients:  tensor([[1.1976e+02, 7.4393e-02, 1.5789e-01, 1.8218e+00, 1.3606e+01]])\n",
      "-------------------\n",
      "4th epoch\n",
      "===================\n",
      "Loss ols:30630084608.0\n",
      "Coefficients:  tensor([[1.5251e+02, 9.8573e-02, 1.7833e-01, 1.9972e+00, 1.8296e+01]])\n",
      "-------------------\n",
      "5th epoch\n",
      "===================\n",
      "Loss ols:44796665856.0\n",
      "Coefficients:  tensor([[1.9162e+02, 1.3073e-01, 2.0452e-01, 2.9756e+00, 2.3716e+01]])\n"
     ]
    }
   ],
   "source": [
    "num_epochs = 5\n",
    "olsnet.train()\n",
    "for epoch in range(num_epochs):\n",
    "    print('-------------------')\n",
    "    print(f'{epoch+1}th epoch')\n",
    "    print('===================')\n",
    "    olstrainer.zero_grad()\n",
    "    X, Y = next(iter(olsdataloader))\n",
    "    output = olsnet(X)\n",
    "\n",
    "    l = olsloss(output,Y)\n",
    "    print(f'Loss ols:{l}')\n",
    "\n",
    "\n",
    "    l.backward(retain_graph=True)\n",
    "\n",
    "    olstrainer.step()\n",
    "    print('Coefficients: ',olsnet[0].weight.data)\n"
   ],
   "metadata": {
    "collapsed": false,
    "pycharm": {
     "name": "#%%\n"
    }
   }
  },
  {
   "cell_type": "code",
   "execution_count": 6,
   "outputs": [
    {
     "data": {
      "text/plain": "'--------------------------------------------------------'"
     },
     "execution_count": 6,
     "metadata": {},
     "output_type": "execute_result"
    }
   ],
   "source": [
    "'''--------------------------------------------------------'''\n",
    "'''--------------------------------------------------------'''\n",
    "'''--------------------------------------------------------'''"
   ],
   "metadata": {
    "collapsed": false,
    "pycharm": {
     "name": "#%%\n"
    }
   }
  },
  {
   "cell_type": "code",
   "execution_count": 7,
   "outputs": [],
   "source": [
    "#Creating a class for displaying the results\n",
    "class evaluation:\n",
    "    \"\"\"For evaluating the accuracy of image recognition neural networks\"\"\"\n",
    "    def __init__(self,net,img = None,label = None):\n",
    "        #History of saved error rates, used for in-sample error evaluation during neural network training\n",
    "        self.hist = []\n",
    "        self.net = net\n",
    "        self.img = img\n",
    "        self.label = label\n",
    "\n",
    "    def prob(self):\n",
    "        \"\"\"Returns probabilities for each label\"\"\"\n",
    "        output = self.net(self.img).double()\n",
    "        exp = torch.exp(output)\n",
    "        sum = torch.sum(exp,dim=-1)\n",
    "        probabilities = exp / sum.unsqueeze(1)\n",
    "        return probabilities\n",
    "\n",
    "    def pred(self):\n",
    "        \"\"\"Returns the labels our model predicted for each image\"\"\"\n",
    "        pred = torch.argmax(self.prob(),dim=1)\n",
    "        return pred\n",
    "\n",
    "    def cert(self):\n",
    "        \"\"\"(certainty) Returns the probabilities of the chosen label for each image\"\"\"\n",
    "        return torch.amax(self.prob(),dim=1)\n",
    "\n",
    "    def error(self):\n",
    "        \"\"\"Returns missclassificaiton eror rate\"\"\"\n",
    "        return torch.sum(self.pred() != self.label)/len(self.label)\n",
    "\n",
    "    def add(self,img,label):\n",
    "        \"\"\"Appends an error rate (and loss if not None) to the history of error rates (used for in-sample error rate during training)\"\"\"\n",
    "        self.img = img\n",
    "        self.label = label\n",
    "        self.hist.append(self.error())\n",
    "\n",
    "\n",
    "    def __getitem__(self, idx):\n",
    "        return self.hist[idx]\n",
    "\n",
    "    def plot(self):\n",
    "        \"\"\"Plots the in-sample error and loss (if such has been added) from history\"\"\"\n",
    "\n",
    "        plt.plot(self.hist)\n",
    "        plt.ylabel('In-sample error')\n",
    "        plt.xlabel('Epoch')\n",
    "        plt.show()\n"
   ],
   "metadata": {
    "collapsed": false,
    "pycharm": {
     "name": "#%%\n"
    }
   }
  },
  {
   "cell_type": "code",
   "execution_count": 8,
   "outputs": [],
   "source": [
    "#Creating an automatic trainer to be used with sequential linear classes\n",
    "class Gradient_Trainer:\n",
    "    \"\"\"Automatic trainer for linear classifiers embedded through a sequential class\"\"\"\n",
    "    def __init__(self,net,train_iter,loss,trainer,test_iter=None):\n",
    "        self.net = net\n",
    "        self.train_iter = train_iter\n",
    "        self.loss = loss\n",
    "        self.trainer = trainer\n",
    "        self.test_iter = test_iter\n",
    "        self.eval = None\n",
    "\n",
    "    def reset(self, std = 0.1):\n",
    "        \"\"\"Used for resetting the weights of the neural network for retrainment\"\"\"\n",
    "        def init_weights(m):\n",
    "            if type(m) == nn.Linear:\n",
    "                nn.init.normal_(m.weight, std=std)\n",
    "\n",
    "        self.net.apply(init_weights)\n",
    "\n",
    "    def Train(self,num_epochs,ploss = False,perror = False,graph = False):\n",
    "        \"\"\"Used for training the neural network\n",
    "                :param ploss: - print loss for each epoch\n",
    "                :param perror: - print error for each epoch\n",
    "                :param graph: - graph in-sample error at the end of training\"\"\"\n",
    "        self.net.train()\n",
    "        eval = evaluation(net=self.net)\n",
    "        for epoch in range(num_epochs):\n",
    "            if ploss is True or perror is True:\n",
    "                print('-------------------')\n",
    "                print(f'{epoch+1}th epoch')\n",
    "                print('===================')\n",
    "            self.net.zero_grad()\n",
    "            img, label = next(iter(self.train_iter))\n",
    "            output = self.net(img).double()\n",
    "            l = self.loss(output,label)\n",
    "            l.mean().backward()\n",
    "            self.trainer.step()\n",
    "            eval.add(img,label)\n",
    "            if ploss is True:\n",
    "                print(\"Loss:\",l.sum().item())\n",
    "            if perror is True:\n",
    "                print(\"In-sample error:\",eval.error())\n",
    "        if graph is True:\n",
    "            eval.plot()\n",
    "        self.eval = eval\n",
    "\n",
    "    def Test(self,test_iter=None):\n",
    "        if self.test_iter is None:\n",
    "            self.test_iter = test_iter\n",
    "        img, label = next(iter(self.test_iter))\n",
    "        result = evaluation(net=self.net,img=img,label=label)\n",
    "        print(\"Out-of-sample error:\",result.error())\n",
    "        self.result = result"
   ],
   "metadata": {
    "collapsed": false,
    "pycharm": {
     "name": "#%%\n"
    }
   }
  },
  {
   "cell_type": "code",
   "execution_count": 9,
   "outputs": [],
   "source": [
    "#Loading in complex MNIST train and test datasets while transforming them to 28x28\n",
    "trans = [torchvision.transforms.ToTensor()]\n",
    "trans.insert(0, torchvision.transforms.Resize(28))\n",
    "trans = torchvision.transforms.Compose(trans)\n",
    "\n",
    "\n",
    "mnist_train = torchvision.datasets.FashionMNIST(\n",
    "    root=\"../PyTorch_Basic/Datasets\",train = True, transform=trans, download= True)\n",
    "mnist_test = torchvision.datasets.FashionMNIST(\n",
    "    root=\"../PyTorch_Basic/Datasets\",train = False, transform=trans, download= True)"
   ],
   "metadata": {
    "collapsed": false,
    "pycharm": {
     "name": "#%%\n"
    }
   }
  },
  {
   "cell_type": "code",
   "execution_count": 10,
   "outputs": [
    {
     "data": {
      "text/plain": "<Figure size 800x800 with 9 Axes>",
      "image/png": "[encoded data removed]"
     },
     "metadata": {},
     "output_type": "display_data"
    }
   ],
   "source": [
    "#Visualizing 9 random examples\n",
    "labels_map = {\n",
    "    0: \"T-Shirt\",\n",
    "    1: \"Trouser\",\n",
    "    2: \"Pullover\",\n",
    "    3: \"Dress\",\n",
    "    4: \"Coat\",\n",
    "    5: \"Sandal\",\n",
    "    6: \"Shirt\",\n",
    "    7: \"Sneaker\",\n",
    "    8: \"Bag\",\n",
    "    9: \"Ankle Boot\",\n",
    "}\n",
    "\n",
    "figure = plt.figure(figsize=(8, 8))\n",
    "cols, rows = 3, 3\n",
    "\n",
    "for i in range(1, cols * rows + 1):\n",
    "    sample_idx = torch.randint(len(mnist_train), size=(1,)).item()\n",
    "    imge, labele = mnist_train[sample_idx]\n",
    "    figure.add_subplot(rows, cols, i)\n",
    "    plt.title(labels_map[labele])\n",
    "    plt.axis(\"off\")\n",
    "    plt.imshow(imge.squeeze())\n",
    "plt.show()"
   ],
   "metadata": {
    "collapsed": false,
    "pycharm": {
     "name": "#%%\n"
    }
   }
  },
  {
   "cell_type": "code",
   "execution_count": 11,
   "outputs": [],
   "source": [
    "#Splitting our data into batch sizes\n",
    "mnist_batch_size = 256\n",
    "\n",
    "mnist_train_iter = torch.utils.data.DataLoader(mnist_train,mnist_batch_size,shuffle=True,num_workers=4)\n",
    "mnist_test_iter = torch.utils.data.DataLoader(mnist_test,mnist_test.__len__(),shuffle=False,num_workers=4)"
   ],
   "metadata": {
    "collapsed": false,
    "pycharm": {
     "name": "#%%\n"
    }
   }
  },
  {
   "cell_type": "code",
   "execution_count": 12,
   "outputs": [],
   "source": [
    "#Creating the model and initializing the weights (logit - logistic regression)\n",
    "logit_net = nn.Sequential(nn.Flatten(),nn.Linear(784,10))\n",
    "\n",
    "#Initializing weights\n",
    "def init_weights(m):\n",
    "    if type(m) == nn.Linear:\n",
    "        nn.init.normal_(m.weight, std=0.01)\n",
    "\n",
    "logit_net.apply(init_weights)\n",
    "\n",
    "#Specifying cross entropy loss\n",
    "logit_loss = nn.CrossEntropyLoss(reduction='none')\n",
    "\n",
    "#Specifying Stochastic Gradient Descent trainer\n",
    "logit_trainer = torch.optim.SGD(logit_net.parameters(), lr=0.1)"
   ],
   "metadata": {
    "collapsed": false,
    "pycharm": {
     "name": "#%%\n"
    }
   }
  },
  {
   "cell_type": "code",
   "execution_count": 12,
   "outputs": [],
   "source": [],
   "metadata": {
    "collapsed": false,
    "pycharm": {
     "name": "#%%\n"
    }
   }
  },
  {
   "cell_type": "code",
   "execution_count": 13,
   "outputs": [
    {
     "name": "stdout",
     "output_type": "stream",
     "text": [
      "-------------------\n",
      "1th epoch\n",
      "===================\n",
      "Loss: 851.9792899565496\n",
      "In-sample error: tensor(0.7930)\n",
      "-------------------\n",
      "2th epoch\n",
      "===================\n",
      "Loss: 614.2489235207797\n",
      "In-sample error: tensor(0.7188)\n",
      "-------------------\n",
      "3th epoch\n",
      "===================\n",
      "Loss: 572.9364785570598\n",
      "In-sample error: tensor(0.7305)\n"
     ]
    },
    {
     "data": {
      "text/plain": "<Figure size 640x480 with 1 Axes>",
      "image/png": "[encoded data removed]"
     },
     "metadata": {},
     "output_type": "display_data"
    }
   ],
   "source": [
    "logit_training = Gradient_Trainer(logit_net,mnist_train_iter,logit_loss,logit_trainer,mnist_test_iter)\n",
    "logit_training.reset()\n",
    "logit_training.Train(3,True,True,True)"
   ],
   "metadata": {
    "collapsed": false,
    "pycharm": {
     "name": "#%%\n"
    }
   }
  },
  {
   "cell_type": "code",
   "execution_count": 14,
   "outputs": [
    {
     "data": {
      "text/plain": "[tensor(0.7930), tensor(0.7188), tensor(0.7305)]"
     },
     "execution_count": 14,
     "metadata": {},
     "output_type": "execute_result"
    }
   ],
   "source": [
    "logit_training.eval.hist"
   ],
   "metadata": {
    "collapsed": false,
    "pycharm": {
     "name": "#%%\n"
    }
   }
  },
  {
   "cell_type": "code",
   "execution_count": 15,
   "outputs": [
    {
     "data": {
      "text/plain": "'--------------------------------------------------------'"
     },
     "execution_count": 15,
     "metadata": {},
     "output_type": "execute_result"
    }
   ],
   "source": [
    "'''--------------------------------------------------------'''\n",
    "'''--------------------------------------------------------'''\n",
    "'''--------------------------------------------------------'''"
   ],
   "metadata": {
    "collapsed": false,
    "pycharm": {
     "name": "#%%\n"
    }
   }
  },
  {
   "cell_type": "code",
   "execution_count": 16,
   "outputs": [],
   "source": [
    "#Perceptron initiation\n",
    "\n",
    "MLP = nn.Sequential(nn.Flatten(),\n",
    "                    nn.Linear(784,256),\n",
    "                    nn.ReLU(),\n",
    "                    nn.Linear(256,10))\n",
    "\n",
    "def init_weights(m):\n",
    "    if type(m) == nn.Linear:\n",
    "        nn.init.normal_(m.weight, std=0.01)\n",
    "\n",
    "MLP.apply(init_weights)\n",
    "\n",
    "MLP_loss = nn.CrossEntropyLoss(reduction='none')\n",
    "\n",
    "MLP_trainer = torch.optim.SGD(MLP.parameters(),lr = 0.1)"
   ],
   "metadata": {
    "collapsed": false,
    "pycharm": {
     "name": "#%%\n"
    }
   }
  },
  {
   "cell_type": "code",
   "execution_count": 17,
   "outputs": [
    {
     "name": "stdout",
     "output_type": "stream",
     "text": [
      "-------------------\n",
      "1th epoch\n",
      "===================\n",
      "Loss: 588.7833055794587\n",
      "In-sample error: tensor(0.8789)\n",
      "-------------------\n",
      "2th epoch\n",
      "===================\n",
      "Loss: 588.5328964356298\n",
      "In-sample error: tensor(0.7930)\n",
      "-------------------\n",
      "3th epoch\n",
      "===================\n",
      "Loss: 584.9311991856996\n",
      "In-sample error: tensor(0.7852)\n",
      "-------------------\n",
      "4th epoch\n",
      "===================\n",
      "Loss: 583.8305643954089\n",
      "In-sample error: tensor(0.8125)\n",
      "-------------------\n",
      "5th epoch\n",
      "===================\n",
      "Loss: 582.0293563388171\n",
      "In-sample error: tensor(0.7422)\n"
     ]
    },
    {
     "data": {
      "text/plain": "<Figure size 640x480 with 1 Axes>",
      "image/png": "[encoded data removed]"
     },
     "metadata": {},
     "output_type": "display_data"
    }
   ],
   "source": [
    "MLP_Training = Gradient_Trainer(MLP,mnist_train_iter,MLP_loss,MLP_trainer,mnist_test_iter)\n",
    "MLP_Training.Train(5,True,True,True)"
   ],
   "metadata": {
    "collapsed": false,
    "pycharm": {
     "name": "#%%\n"
    }
   }
  },
  {
   "cell_type": "code",
   "execution_count": 17,
   "outputs": [],
   "source": [],
   "metadata": {
    "collapsed": false,
    "pycharm": {
     "name": "#%%\n"
    }
   }
  }
 ],
 "metadata": {
  "kernelspec": {
   "display_name": "Python 3",
   "language": "python",
   "name": "python3"
  },
  "language_info": {
   "codemirror_mode": {
    "name": "ipython",
    "version": 2
   },
   "file_extension": ".py",
   "mimetype": "text/x-python",
   "name": "python",
   "nbconvert_exporter": "python",
   "pygments_lexer": "ipython2",
   "version": "2.7.6"
  }
 },
 "nbformat": 4,
 "nbformat_minor": 0
}