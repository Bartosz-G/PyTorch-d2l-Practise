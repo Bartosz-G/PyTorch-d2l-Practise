{
 "cells": [
  {
   "cell_type": "code",
   "execution_count": 8,
   "metadata": {
    "collapsed": true,
    "pycharm": {
     "name": "#%%\n"
    }
   },
   "outputs": [],
   "source": [
    "import torch\n",
    "import numpy as np\n",
    "import pandas as pd\n",
    "import torch.utils\n",
    "from torch import nn"
   ]
  },
  {
   "cell_type": "code",
   "execution_count": 9,
   "outputs": [],
   "source": [
    "#Loading house prices training and test dataset\n",
    "hptrain = pd.read_csv(\"Datasets/hptrain.csv\",index_col=0)\n",
    "hptest = pd.read_csv(\"Datasets/hptest.csv\",index_col=0)"
   ],
   "metadata": {
    "collapsed": false,
    "pycharm": {
     "name": "#%%\n"
    }
   }
  },
  {
   "cell_type": "code",
   "execution_count": 10,
   "outputs": [],
   "source": [
    "#Transforming data into tensor data format from pandas' dataframe\n",
    "X_ols_train = torch.tensor(hptrain[['LotArea', 'OverallQual', 'OverallCond', 'MasVnrArea', 'TotalBsmtSF']].values,requires_grad=True,dtype=torch.float32)\n",
    "X_ols_train = nn.functional.normalize(X_ols_train)\n",
    "Y_ols_train = torch.tensor(hptrain[['SalePrice']].values,requires_grad=True,dtype=torch.float32)\n",
    "\n",
    "\n",
    "#Splitting data into iterable batches\n",
    "olstensor = torch.utils.data.TensorDataset(X_ols_train,Y_ols_train)\n",
    "olsdataloader = torch.utils.data.DataLoader(olstensor, batch_size=20,shuffle=True)"
   ],
   "metadata": {
    "collapsed": false,
    "pycharm": {
     "name": "#%%\n"
    }
   }
  },
  {
   "cell_type": "code",
   "execution_count": 11,
   "outputs": [],
   "source": [
    "#Specifying the paramenters of our model\n",
    "olsnet = nn.Sequential(nn.Linear(X_ols_train.size()[1],Y_ols_train.size()[1]))\n",
    "olsnet[0].weight.data.normal_(0, 0.1)\n",
    "olsnet[0].bias.data.normal_(0, 0.1)\n",
    "olsloss = nn.MSELoss()\n",
    "olstrainer = torch.optim.SGD(olsnet.parameters(),lr=1)"
   ],
   "metadata": {
    "collapsed": false,
    "pycharm": {
     "name": "#%%\n"
    }
   }
  },
  {
   "cell_type": "code",
   "execution_count": 12,
   "outputs": [
    {
     "name": "stdout",
     "output_type": "stream",
     "text": [
      "-------------------\n",
      "1th epoch\n",
      "===================\n",
      "Loss ols:38776840192.0\n",
      "Grad bef:None\n",
      "Grad aft:None\n",
      "Coefficients:  tensor([[3.5455e+05, 2.3418e+02, 2.1216e+02, 2.6712e+03, 4.6565e+04]])\n",
      "-------------------\n",
      "2th epoch\n",
      "===================\n",
      "Loss ols:269102710784.0\n",
      "Grad bef:None\n",
      "Grad aft:None\n",
      "Coefficients:  tensor([[-6.5992e+05, -4.3809e+02, -3.9943e+02, -7.9720e+03, -5.8545e+04]])\n",
      "-------------------\n",
      "3th epoch\n",
      "===================\n",
      "Loss ols:2191683616768.0\n",
      "Grad bef:None\n",
      "Grad aft:None\n",
      "Coefficients:  tensor([[2.2619e+06, 1.5828e+03, 1.5199e+03, 1.4874e+04, 3.3997e+05]])\n",
      "-------------------\n",
      "4th epoch\n",
      "===================\n",
      "Loss ols:19131923431424.0\n",
      "Grad bef:None\n",
      "Grad aft:None\n",
      "Coefficients:  tensor([[-6.4008e+06, -5.1323e+03, -4.4069e+03, -1.0968e+05, -7.4989e+05]])\n",
      "-------------------\n",
      "5th epoch\n",
      "===================\n",
      "Loss ols:170607576612864.0\n",
      "Grad bef:None\n",
      "Grad aft:None\n",
      "Coefficients:  tensor([[1.9488e+07, 1.1642e+04, 9.7319e+03, 1.6820e+05, 2.1959e+06]])\n",
      "-------------------\n",
      "6th epoch\n",
      "===================\n",
      "Loss ols:1523008556498944.0\n",
      "Grad bef:None\n",
      "Grad aft:None\n",
      "Coefficients:  tensor([[-5.7350e+07, -4.7322e+04, -4.7366e+04, -4.8456e+05, -9.2054e+06]])\n",
      "-------------------\n",
      "7th epoch\n",
      "===================\n",
      "Loss ols:1.3549554519506944e+16\n",
      "Grad bef:None\n",
      "Grad aft:None\n",
      "Coefficients:  tensor([[1.7293e+08, 1.2489e+05, 1.2403e+05, 4.6864e+06, 1.8984e+07]])\n",
      "-------------------\n",
      "8th epoch\n",
      "===================\n",
      "Loss ols:1.2071934157337395e+17\n",
      "Grad bef:None\n",
      "Grad aft:None\n",
      "Coefficients:  tensor([[-5.1346e+08, -4.1359e+05, -4.7631e+05, -3.7324e+06, -6.5803e+07]])\n",
      "-------------------\n",
      "9th epoch\n",
      "===================\n",
      "Loss ols:1.0758541919953879e+18\n",
      "Grad bef:None\n",
      "Grad aft:None\n",
      "Coefficients:  tensor([[1.5381e+09, 1.1470e+06, 1.0134e+06, 4.1360e+06, 2.1191e+08]])\n",
      "-------------------\n",
      "10th epoch\n",
      "===================\n",
      "Loss ols:9.610402328855183e+18\n",
      "Grad bef:None\n",
      "Grad aft:None\n",
      "Coefficients:  tensor([[-4.5680e+09, -4.2463e+06, -4.4564e+06, -2.7961e+07, -7.0872e+08]])\n"
     ]
    },
    {
     "name": "stderr",
     "output_type": "stream",
     "text": [
      "/Users/bartoszgawin/lib/python3.10/site-packages/torch/_tensor.py:1083: UserWarning: The .grad attribute of a Tensor that is not a leaf Tensor is being accessed. Its .grad attribute won't be populated during autograd.backward(). If you indeed want the .grad field to be populated for a non-leaf Tensor, use .retain_grad() on the non-leaf Tensor. If you access the non-leaf Tensor by mistake, make sure you access the leaf Tensor instead. See github.com/pytorch/pytorch/pull/30531 for more informations. (Triggered internally at  /Users/runner/work/pytorch/pytorch/pytorch/build/aten/src/ATen/core/TensorBody.h:482.)\n",
      "  return self._grad\n"
     ]
    }
   ],
   "source": [
    "num_epochs = 10\n",
    "olsnet.train()\n",
    "for epoch in range(num_epochs):\n",
    "    print('-------------------')\n",
    "    print(f'{epoch+1}th epoch')\n",
    "    print('===================')\n",
    "    olstrainer.zero_grad()\n",
    "    X, Y = next(iter(olsdataloader))\n",
    "    output = olsnet(X)\n",
    "\n",
    "    l = olsloss(output,Y)\n",
    "    print(f'Loss ols:{l}')\n",
    "\n",
    "\n",
    "    l.backward(retain_graph=True)\n",
    "\n",
    "    olstrainer.step()\n",
    "    print('Coefficients: ',olsnet[0].weight.data)\n"
   ],
   "metadata": {
    "collapsed": false,
    "pycharm": {
     "name": "#%%\n"
    }
   }
  },
  {
   "cell_type": "code",
   "execution_count": null,
   "outputs": [],
   "source": [
    "#Loading in complex MNIST train and test datasets"
   ],
   "metadata": {
    "collapsed": false,
    "pycharm": {
     "name": "#%%\n"
    }
   }
  }
 ],
 "metadata": {
  "kernelspec": {
   "display_name": "Python 3",
   "language": "python",
   "name": "python3"
  },
  "language_info": {
   "codemirror_mode": {
    "name": "ipython",
    "version": 2
   },
   "file_extension": ".py",
   "mimetype": "text/x-python",
   "name": "python",
   "nbconvert_exporter": "python",
   "pygments_lexer": "ipython2",
   "version": "2.7.6"
  }
 },
 "nbformat": 4,
 "nbformat_minor": 0
}