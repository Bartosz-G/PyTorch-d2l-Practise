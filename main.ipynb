{
 "cells": [
  {
   "cell_type": "code",
   "execution_count": 16,
   "metadata": {
    "collapsed": true,
    "pycharm": {
     "name": "#%%\n"
    }
   },
   "outputs": [],
   "source": [
    "import torch\n",
    "import pandas as pd\n",
    "import numpy as np\n",
    "import torch.utils\n",
    "import torchvision.transforms\n",
    "from torch import nn\n",
    "%matplotlib inline"
   ]
  },
  {
   "cell_type": "code",
   "execution_count": 17,
   "outputs": [],
   "source": [
    "#Loading house prices training and test dataset\n",
    "hptrain = pd.read_csv(\"Datasets/hptrain.csv\",index_col=0)\n",
    "hptest = pd.read_csv(\"Datasets/hptest.csv\",index_col=0)"
   ],
   "metadata": {
    "collapsed": false,
    "pycharm": {
     "name": "#%%\n"
    }
   }
  },
  {
   "cell_type": "code",
   "execution_count": 18,
   "outputs": [],
   "source": [
    "#Transforming data into tensor data format from pandas' dataframe\n",
    "X_ols_train = torch.tensor(hptrain[['LotArea', 'OverallQual', 'OverallCond', 'MasVnrArea', 'TotalBsmtSF']].values,requires_grad=True,dtype=torch.float32)\n",
    "X_ols_train = nn.functional.normalize(X_ols_train)\n",
    "Y_ols_train = torch.tensor(hptrain[['SalePrice']].values,requires_grad=True,dtype=torch.float32)\n",
    "\n",
    "\n",
    "#Splitting data into iterable batches\n",
    "olstensor = torch.utils.data.TensorDataset(X_ols_train,Y_ols_train)\n",
    "olsdataloader = torch.utils.data.DataLoader(olstensor, batch_size=20,shuffle=True)"
   ],
   "metadata": {
    "collapsed": false,
    "pycharm": {
     "name": "#%%\n"
    }
   }
  },
  {
   "cell_type": "code",
   "execution_count": 19,
   "outputs": [],
   "source": [
    "#Specifying the paramenters of our model\n",
    "olsnet = nn.Sequential(nn.Linear(X_ols_train.size()[1],Y_ols_train.size()[1]))\n",
    "olsnet[0].weight.data.normal_(0, 0.1)\n",
    "olsnet[0].bias.data.normal_(0, 0.1)\n",
    "olsloss = nn.MSELoss()\n",
    "olstrainer = torch.optim.SGD(olsnet.parameters(),lr=1)"
   ],
   "metadata": {
    "collapsed": false,
    "pycharm": {
     "name": "#%%\n"
    }
   }
  },
  {
   "cell_type": "code",
   "execution_count": 20,
   "outputs": [
    {
     "name": "stdout",
     "output_type": "stream",
     "text": [
      "-------------------\n",
      "1th epoch\n",
      "===================\n",
      "Loss ols:33496983552.0\n",
      "Coefficients:  tensor([[3.5196e+05, 2.7698e+02, 2.1829e+02, 7.5831e+03, 4.8859e+04]])\n",
      "-------------------\n",
      "2th epoch\n",
      "===================\n",
      "Loss ols:281230114816.0\n",
      "Coefficients:  tensor([[-6.8608e+05, -4.2542e+02, -4.5458e+02, -9.9694e+03, -5.1705e+04]])\n",
      "-------------------\n",
      "3th epoch\n",
      "===================\n",
      "Loss ols:nan\n",
      "Coefficients:  tensor([[nan, nan, nan, nan, nan]])\n",
      "-------------------\n",
      "4th epoch\n",
      "===================\n",
      "Loss ols:nan\n",
      "Coefficients:  tensor([[nan, nan, nan, nan, nan]])\n",
      "-------------------\n",
      "5th epoch\n",
      "===================\n",
      "Loss ols:nan\n",
      "Coefficients:  tensor([[nan, nan, nan, nan, nan]])\n",
      "-------------------\n",
      "6th epoch\n",
      "===================\n",
      "Loss ols:nan\n",
      "Coefficients:  tensor([[nan, nan, nan, nan, nan]])\n",
      "-------------------\n",
      "7th epoch\n",
      "===================\n",
      "Loss ols:nan\n",
      "Coefficients:  tensor([[nan, nan, nan, nan, nan]])\n",
      "-------------------\n",
      "8th epoch\n",
      "===================\n",
      "Loss ols:nan\n",
      "Coefficients:  tensor([[nan, nan, nan, nan, nan]])\n",
      "-------------------\n",
      "9th epoch\n",
      "===================\n",
      "Loss ols:nan\n",
      "Coefficients:  tensor([[nan, nan, nan, nan, nan]])\n",
      "-------------------\n",
      "10th epoch\n",
      "===================\n",
      "Loss ols:nan\n",
      "Coefficients:  tensor([[nan, nan, nan, nan, nan]])\n"
     ]
    }
   ],
   "source": [
    "num_epochs = 10\n",
    "olsnet.train()\n",
    "for epoch in range(num_epochs):\n",
    "    print('-------------------')\n",
    "    print(f'{epoch+1}th epoch')\n",
    "    print('===================')\n",
    "    olstrainer.zero_grad()\n",
    "    X, Y = next(iter(olsdataloader))\n",
    "    output = olsnet(X)\n",
    "\n",
    "    l = olsloss(output,Y)\n",
    "    print(f'Loss ols:{l}')\n",
    "\n",
    "\n",
    "    l.backward(retain_graph=True)\n",
    "\n",
    "    olstrainer.step()\n",
    "    print('Coefficients: ',olsnet[0].weight.data)\n"
   ],
   "metadata": {
    "collapsed": false,
    "pycharm": {
     "name": "#%%\n"
    }
   }
  },
  {
   "cell_type": "code",
   "execution_count": 28,
   "outputs": [],
   "source": [
    "#Loading in complex MNIST train and test datasets while transforming them to 64\n",
    "trans = [torchvision.transforms.ToTensor()]\n",
    "trans.insert(0, torchvision.transforms.Resize(64))\n",
    "trans = torchvision.transforms.Compose(trans)\n",
    "\n",
    "\n",
    "mnist_train = torchvision.datasets.FashionMNIST(\n",
    "    root=\"../PyTorch_Basic/Datasets\",train = True, transform=trans, download= True)\n",
    "mnist_test = torchvision.datasets.FashionMNIST(\n",
    "    root=\"../PyTorch_Basic/Datasets\",train = False, transform=trans, download= True)"
   ],
   "metadata": {
    "collapsed": false,
    "pycharm": {
     "name": "#%%\n"
    }
   }
  },
  {
   "cell_type": "code",
   "execution_count": null,
   "outputs": [],
   "source": [],
   "metadata": {
    "collapsed": false,
    "pycharm": {
     "name": "#%%\n"
    }
   }
  },
  {
   "cell_type": "code",
   "execution_count": null,
   "outputs": [],
   "source": [
    "#\n"
   ],
   "metadata": {
    "collapsed": false,
    "pycharm": {
     "name": "#%%\n"
    }
   }
  }
 ],
 "metadata": {
  "kernelspec": {
   "display_name": "Python 3",
   "language": "python",
   "name": "python3"
  },
  "language_info": {
   "codemirror_mode": {
    "name": "ipython",
    "version": 2
   },
   "file_extension": ".py",
   "mimetype": "text/x-python",
   "name": "python",
   "nbconvert_exporter": "python",
   "pygments_lexer": "ipython2",
   "version": "2.7.6"
  }
 },
 "nbformat": 4,
 "nbformat_minor": 0
}