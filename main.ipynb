{
 "cells": [
  {
   "cell_type": "code",
   "execution_count": 222,
   "metadata": {
    "collapsed": true,
    "pycharm": {
     "name": "#%%\n"
    }
   },
   "outputs": [],
   "source": [
    "import torch\n",
    "import numpy as np\n",
    "import pandas as pd\n",
    "import torch.utils\n",
    "from torch import nn"
   ]
  },
  {
   "cell_type": "code",
   "execution_count": 223,
   "outputs": [],
   "source": [
    "#Loading house prices training and test dataset\n",
    "hptrain = pd.read_csv(\"/Users/bartoszgawin/Desktop/ML/Practise/PyTorch_Basic/Datasets/hptrain.csv\",index_col=0)\n",
    "hptest = pd.read_csv(\"Datasets/hptest.csv\",index_col=0)"
   ],
   "metadata": {
    "collapsed": false,
    "pycharm": {
     "name": "#%%\n"
    }
   }
  },
  {
   "cell_type": "code",
   "execution_count": 224,
   "outputs": [],
   "source": [
    "#Transforming data into tensor data format from pandas' dataframe\n",
    "X_ols_train = torch.tensor(hptrain[['LotArea', 'OverallQual', 'OverallCond', 'MasVnrArea', 'TotalBsmtSF']].values,requires_grad=True)\n",
    "Y_ols_train = torch.tensor(hptrain[['SalePrice']].values)\n",
    "\n",
    "\n",
    "X_ols_train = X_ols_train.float()\n",
    "Y_ols_train = Y_ols_train.float()\n",
    "\n",
    "\n",
    "#Splitting data into iterable batches\n",
    "olstensor = torch.utils.data.TensorDataset(X_ols_train,Y_ols_train)\n",
    "olsdataloader = torch.utils.data.DataLoader(olstensor, batch_size=20,shuffle=True)"
   ],
   "metadata": {
    "collapsed": false,
    "pycharm": {
     "name": "#%%\n"
    }
   }
  },
  {
   "cell_type": "code",
   "execution_count": 225,
   "outputs": [],
   "source": [
    "#Specifying the paramenters of our model\n",
    "olsnet = nn.Sequential(nn.Linear(X_ols_train.size()[1], Y_ols_train.size()[1]))\n",
    "olsnet[0].weight.data.normal_(0, 0.1)\n",
    "olsnet[0].bias.data.normal_(0, 0.1)\n",
    "olsloss = nn.MSELoss()\n",
    "olstrainer = torch.optim.SGD(olsnet.parameters(),lr=0.03)"
   ],
   "metadata": {
    "collapsed": false,
    "pycharm": {
     "name": "#%%\n"
    }
   }
  },
  {
   "cell_type": "code",
   "execution_count": 226,
   "outputs": [
    {
     "name": "stdout",
     "output_type": "stream",
     "text": [
      "-------------------\n",
      "1th epoch\n",
      "===================\n",
      "Loss before:38851129344.0\n",
      "Loss after:38851129344.0\n",
      "Gradient:38851129344.0\n",
      "Coefficients:  tensor([[1.1232e+08, 7.1365e+04, 5.9603e+04, 1.8535e+06, 1.1357e+07]])\n",
      "-------------------\n",
      "2th epoch\n",
      "===================\n",
      "Loss before:1.2455253127783735e+24\n",
      "Loss after:1.2455253127783735e+24\n",
      "Gradient:1.2455253127783735e+24\n",
      "Coefficients:  tensor([[-6.5913e+14, -3.6267e+11, -3.7847e+11, -7.9614e+12, -6.0316e+13]])\n",
      "-------------------\n",
      "3th epoch\n",
      "===================\n",
      "Loss before:inf\n",
      "Loss after:inf\n",
      "Gradient:inf\n",
      "Coefficients:  tensor([[3.3323e+21, 2.0307e+18, 1.9056e+18, 3.0099e+19, 3.5375e+20]])\n",
      "-------------------\n",
      "4th epoch\n",
      "===================\n",
      "Loss before:inf\n",
      "Loss after:inf\n",
      "Gradient:inf\n",
      "Coefficients:  tensor([[-4.6564e+28, -1.5434e+25, -1.3157e+25, -1.7599e+26, -2.6096e+27]])\n",
      "-------------------\n",
      "5th epoch\n",
      "===================\n",
      "Loss before:nan\n",
      "Loss after:nan\n",
      "Gradient:nan\n",
      "Coefficients:  tensor([[nan, nan, nan, nan, nan]])\n"
     ]
    }
   ],
   "source": [
    "num_epochs = 5\n",
    "for epoch in range(num_epochs):\n",
    "    print('-------------------')\n",
    "    print(f'{epoch+1}th epoch')\n",
    "    print('===================')\n",
    "\n",
    "    X, Y = next(iter(olsdataloader))\n",
    "    X.requires_grad_(True)\n",
    "    Y.requires_grad_(True)\n",
    "    l = olsloss(olsnet(X),Y)\n",
    "    olstrainer.zero_grad()\n",
    "    print(f'Loss before:{l}')\n",
    "    l.requires_grad_(True)\n",
    "    l.backward()\n",
    "    print(f'Loss after:{l}')\n",
    "    olstrainer.step()\n",
    "    print(f'Gradient:{l.item()}')\n",
    "    print('Coefficients: ',olsnet[0].weight.data)\n"
   ],
   "metadata": {
    "collapsed": false,
    "pycharm": {
     "name": "#%%\n"
    }
   }
  },
  {
   "cell_type": "code",
   "execution_count": 226,
   "outputs": [],
   "source": [],
   "metadata": {
    "collapsed": false,
    "pycharm": {
     "name": "#%%\n"
    }
   }
  },
  {
   "cell_type": "code",
   "execution_count": 105,
   "outputs": [],
   "source": [],
   "metadata": {
    "collapsed": false,
    "pycharm": {
     "name": "#%%\n"
    }
   }
  },
  {
   "cell_type": "code",
   "execution_count": 105,
   "outputs": [],
   "source": [],
   "metadata": {
    "collapsed": false,
    "pycharm": {
     "name": "#%%\n"
    }
   }
  },
  {
   "cell_type": "code",
   "execution_count": null,
   "outputs": [],
   "source": [],
   "metadata": {
    "collapsed": false,
    "pycharm": {
     "name": "#%%\n"
    }
   }
  },
  {
   "cell_type": "code",
   "execution_count": 124,
   "outputs": [],
   "source": [],
   "metadata": {
    "collapsed": false,
    "pycharm": {
     "name": "#%%\n"
    }
   }
  }
 ],
 "metadata": {
  "kernelspec": {
   "display_name": "Python 3",
   "language": "python",
   "name": "python3"
  },
  "language_info": {
   "codemirror_mode": {
    "name": "ipython",
    "version": 2
   },
   "file_extension": ".py",
   "mimetype": "text/x-python",
   "name": "python",
   "nbconvert_exporter": "python",
   "pygments_lexer": "ipython2",
   "version": "2.7.6"
  }
 },
 "nbformat": 4,
 "nbformat_minor": 0
}