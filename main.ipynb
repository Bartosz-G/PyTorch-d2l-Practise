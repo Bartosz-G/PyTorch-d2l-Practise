{
 "cells": [
  {
   "cell_type": "code",
   "execution_count": 43,
   "metadata": {
    "collapsed": true,
    "pycharm": {
     "name": "#%%\n"
    }
   },
   "outputs": [],
   "source": [
    "import torch\n",
    "import pandas as pd\n",
    "import numpy as np\n",
    "import torch.utils\n",
    "import torchvision.transforms\n",
    "from torch import nn\n",
    "%matplotlib inline"
   ]
  },
  {
   "cell_type": "code",
   "execution_count": 44,
   "outputs": [],
   "source": [
    "#Loading house prices training and test dataset\n",
    "hptrain = pd.read_csv(\"Datasets/hptrain.csv\",index_col=0)\n",
    "hptest = pd.read_csv(\"Datasets/hptest.csv\",index_col=0)"
   ],
   "metadata": {
    "collapsed": false,
    "pycharm": {
     "name": "#%%\n"
    }
   }
  },
  {
   "cell_type": "code",
   "execution_count": 45,
   "outputs": [],
   "source": [
    "#Transforming data into tensor data format from pandas' dataframe\n",
    "X_ols_train = torch.tensor(hptrain[['LotArea', 'OverallQual', 'OverallCond', 'MasVnrArea', 'TotalBsmtSF']].values,requires_grad=True,dtype=torch.float32)\n",
    "X_ols_train = nn.functional.normalize(X_ols_train)\n",
    "Y_ols_train = torch.tensor(hptrain[['SalePrice']].values,requires_grad=True,dtype=torch.float32)\n",
    "\n",
    "\n",
    "#Splitting data into iterable batches\n",
    "olstensor = torch.utils.data.TensorDataset(X_ols_train,Y_ols_train)\n",
    "olsdataloader = torch.utils.data.DataLoader(olstensor, batch_size=20,shuffle=True)"
   ],
   "metadata": {
    "collapsed": false,
    "pycharm": {
     "name": "#%%\n"
    }
   }
  },
  {
   "cell_type": "code",
   "execution_count": 46,
   "outputs": [],
   "source": [
    "#Specifying the paramenters of our model\n",
    "olsnet = nn.Sequential(nn.Linear(X_ols_train.size()[1],Y_ols_train.size()[1]))\n",
    "olsnet[0].weight.data.normal_(0, 0.1)\n",
    "olsnet[0].bias.data.normal_(0, 0.1)\n",
    "olsloss = nn.MSELoss()\n",
    "olstrainer = torch.optim.SGD(olsnet.parameters(),lr=1)"
   ],
   "metadata": {
    "collapsed": false,
    "pycharm": {
     "name": "#%%\n"
    }
   }
  },
  {
   "cell_type": "code",
   "execution_count": 47,
   "outputs": [
    {
     "name": "stdout",
     "output_type": "stream",
     "text": [
      "-------------------\n",
      "1th epoch\n",
      "===================\n",
      "Loss ols:34161504256.0\n",
      "Coefficients:  tensor([[3.5048e+05, 2.3444e+02, 2.4253e+02, 4.8061e+03, 3.9146e+04]])\n",
      "-------------------\n",
      "2th epoch\n",
      "===================\n",
      "Loss ols:289543192576.0\n",
      "Coefficients:  tensor([[-6.9783e+05, -6.3762e+02, -6.0205e+02, -4.0791e+03, -1.0968e+05]])\n",
      "-------------------\n",
      "3th epoch\n",
      "===================\n",
      "Loss ols:2540513525760.0\n",
      "Coefficients:  tensor([[2.4565e+06, 1.9108e+03, 1.6622e+03, 2.8442e+04, 2.5876e+05]])\n",
      "-------------------\n",
      "4th epoch\n",
      "===================\n",
      "Loss ols:nan\n",
      "Coefficients:  tensor([[nan, nan, nan, nan, nan]])\n",
      "-------------------\n",
      "5th epoch\n",
      "===================\n",
      "Loss ols:nan\n",
      "Coefficients:  tensor([[nan, nan, nan, nan, nan]])\n",
      "-------------------\n",
      "6th epoch\n",
      "===================\n",
      "Loss ols:nan\n",
      "Coefficients:  tensor([[nan, nan, nan, nan, nan]])\n",
      "-------------------\n",
      "7th epoch\n",
      "===================\n",
      "Loss ols:nan\n",
      "Coefficients:  tensor([[nan, nan, nan, nan, nan]])\n",
      "-------------------\n",
      "8th epoch\n",
      "===================\n",
      "Loss ols:nan\n",
      "Coefficients:  tensor([[nan, nan, nan, nan, nan]])\n",
      "-------------------\n",
      "9th epoch\n",
      "===================\n",
      "Loss ols:nan\n",
      "Coefficients:  tensor([[nan, nan, nan, nan, nan]])\n",
      "-------------------\n",
      "10th epoch\n",
      "===================\n",
      "Loss ols:nan\n",
      "Coefficients:  tensor([[nan, nan, nan, nan, nan]])\n"
     ]
    }
   ],
   "source": [
    "num_epochs = 10\n",
    "olsnet.train()\n",
    "for epoch in range(num_epochs):\n",
    "    print('-------------------')\n",
    "    print(f'{epoch+1}th epoch')\n",
    "    print('===================')\n",
    "    olstrainer.zero_grad()\n",
    "    X, Y = next(iter(olsdataloader))\n",
    "    output = olsnet(X)\n",
    "\n",
    "    l = olsloss(output,Y)\n",
    "    print(f'Loss ols:{l}')\n",
    "\n",
    "\n",
    "    l.backward(retain_graph=True)\n",
    "\n",
    "    olstrainer.step()\n",
    "    print('Coefficients: ',olsnet[0].weight.data)\n"
   ],
   "metadata": {
    "collapsed": false,
    "pycharm": {
     "name": "#%%\n"
    }
   }
  },
  {
   "cell_type": "code",
   "execution_count": 48,
   "outputs": [],
   "source": [
    "#Loading in complex MNIST train and test datasets while transforming them to 64\n",
    "trans = [torchvision.transforms.ToTensor()]\n",
    "trans.insert(0, torchvision.transforms.Resize(64))\n",
    "trans = torchvision.transforms.Compose(trans)\n",
    "\n",
    "\n",
    "mnist_train = torchvision.datasets.FashionMNIST(\n",
    "    root=\"../PyTorch_Basic/Datasets\",train = True, transform=trans, download= True)\n",
    "mnist_test = torchvision.datasets.FashionMNIST(\n",
    "    root=\"../PyTorch_Basic/Datasets\",train = False, transform=trans, download= True)"
   ],
   "metadata": {
    "collapsed": false,
    "pycharm": {
     "name": "#%%\n"
    }
   }
  },
  {
   "cell_type": "code",
   "execution_count": 49,
   "outputs": [],
   "source": [
    "#Splitting our data into batch sizes\n",
    "mnist_batch_size = 256\n",
    "\n",
    "mnist_train_iter = torch.utils.data.DataLoader(mnist_train,mnist_batch_size,shuffle=True,num_workers=4)\n",
    "mnist_test_iter = torch.utils.data.DataLoader(mnist_test,mnist_batch_size,shuffle=True,num_workers=4)"
   ],
   "metadata": {
    "collapsed": false,
    "pycharm": {
     "name": "#%%\n"
    }
   }
  },
  {
   "cell_type": "code",
   "execution_count": 56,
   "outputs": [],
   "source": [
    "#Creating the model and initializing the weights\n",
    "logit_net = nn.Sequential(nn.Flatten(),nn.Linear(784,10))\n",
    "\n",
    "def init_weights(m):\n",
    "    if type(m) == nn.Linear:\n",
    "        nn.init.normal_(m.weight, std=0.01)\n",
    "\n",
    "logit_net.apply(init_weights)\n",
    "\n",
    "logit_loss = nn.CrossEntropyLoss(reduction='none')\n",
    "\n",
    "logit_trainer = torch.optim.SGD(logit_net.parameters(), lr=0.1)"
   ],
   "metadata": {
    "collapsed": false,
    "pycharm": {
     "name": "#%%\n"
    }
   }
  },
  {
   "cell_type": "code",
   "execution_count": 62,
   "outputs": [
    {
     "data": {
      "text/plain": "Parameter containing:\ntensor([-0.0016,  0.0124,  0.0229,  0.0052, -0.0261, -0.0015, -0.0199, -0.0346,\n         0.0112, -0.0335], requires_grad=True)"
     },
     "execution_count": 62,
     "metadata": {},
     "output_type": "execute_result"
    }
   ],
   "source": [
    "#Creating a trainer\n",
    "def mnist_trainer(net,train_iter,loss,optim):\n"
   ],
   "metadata": {
    "collapsed": false,
    "pycharm": {
     "name": "#%%\n"
    }
   }
  },
  {
   "cell_type": "code",
   "execution_count": null,
   "outputs": [],
   "source": [],
   "metadata": {
    "collapsed": false,
    "pycharm": {
     "name": "#%%\n"
    }
   }
  }
 ],
 "metadata": {
  "kernelspec": {
   "display_name": "Python 3",
   "language": "python",
   "name": "python3"
  },
  "language_info": {
   "codemirror_mode": {
    "name": "ipython",
    "version": 2
   },
   "file_extension": ".py",
   "mimetype": "text/x-python",
   "name": "python",
   "nbconvert_exporter": "python",
   "pygments_lexer": "ipython2",
   "version": "2.7.6"
  }
 },
 "nbformat": 4,
 "nbformat_minor": 0
}